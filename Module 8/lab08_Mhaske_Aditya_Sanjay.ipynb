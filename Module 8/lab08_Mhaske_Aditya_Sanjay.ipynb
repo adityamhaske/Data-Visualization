{
  "cells": [
    {
      "cell_type": "markdown",
      "metadata": {
        "id": "A6iFUUQLNDlE"
      },
      "source": [
        "<table class=\"m01-notebook-buttons\" align=\"left\">\n",
        "  <td>\n",
        "    <a target=\"_blank\" href=\"https://colab.research.google.com/github/yy/dviz-course/blob/master/docs/m08-histogram/lab08.ipynb\"><img src=\"https://www.tensorflow.org/images/colab_logo_32px.png\" />Run in Google Colab</a>\n",
        "  </td>\n",
        "  <td>\n",
        "    <a href=\"https://yyahn.com/dviz-course/m08-histogram/lab08/\"><img src=\"https://www.tensorflow.org/images/GitHub-Mark-32px.png\" />View on Github</a>\n",
        "  </td>\n",
        "  <td>\n",
        "    <a href=\"https://raw.githubusercontent.com/yy/dviz-course/master/docs/m08-histogram/lab08.ipynb\"><img src=\"https://www.tensorflow.org/images/GitHub-Mark-32px.png\" />View raw on Github</a>\n",
        "  </td>\n",
        "</table>"
      ]
    },
    {
      "cell_type": "markdown",
      "metadata": {
        "id": "rHEGnwRZTG6O"
      },
      "source": [
        "# Module 8: Histogram and CDF\n",
        "\n",
        "A deep dive into Histogram and boxplot."
      ]
    },
    {
      "cell_type": "code",
      "execution_count": 1,
      "metadata": {
        "execution": {
          "iopub.execute_input": "2020-06-14T19:55:00.229Z",
          "iopub.status.busy": "2020-06-14T19:55:00.202Z",
          "iopub.status.idle": "2020-06-14T19:55:00.311Z",
          "shell.execute_reply": "2020-06-14T19:55:00.333Z"
        },
        "id": "S4vGQ3FkTG6R"
      },
      "outputs": [],
      "source": [
        "import matplotlib.pyplot as plt\n",
        "import numpy as np\n",
        "import seaborn as sns\n",
        "import altair as alt\n",
        "import pandas as pd\n",
        "%matplotlib inline"
      ]
    },
    {
      "cell_type": "code",
      "execution_count": 2,
      "metadata": {
        "colab": {
          "base_uri": "https://localhost:8080/",
          "height": 36
        },
        "execution": {
          "iopub.execute_input": "2020-06-14T19:55:02.381Z",
          "iopub.status.busy": "2020-06-14T19:55:02.358Z",
          "iopub.status.idle": "2020-06-14T19:55:02.421Z",
          "shell.execute_reply": "2020-06-14T19:55:02.439Z"
        },
        "id": "t9T3g_o4TG6S",
        "jupyter": {
          "outputs_hidden": false
        },
        "outputId": "724751d5-3641-4421-b27b-1616f457c826"
      },
      "outputs": [
        {
          "output_type": "execute_result",
          "data": {
            "text/plain": [
              "'3.7.1'"
            ],
            "application/vnd.google.colaboratory.intrinsic+json": {
              "type": "string"
            }
          },
          "metadata": {},
          "execution_count": 2
        }
      ],
      "source": [
        "import matplotlib\n",
        "matplotlib.__version__"
      ]
    },
    {
      "cell_type": "markdown",
      "metadata": {
        "id": "N6blkVDDTG6T"
      },
      "source": [
        "## The tricky histogram with pre-counted data"
      ]
    },
    {
      "cell_type": "markdown",
      "metadata": {
        "id": "95_k7X_-TG6T"
      },
      "source": [
        "Let's revisit the table from the class\n",
        "\n",
        "| Hours | Frequency |\n",
        "|-------|-----------|\n",
        "| 0-1   | 4,300     |\n",
        "| 1-3   | 6,900     |\n",
        "| 3-5   | 4,900     |\n",
        "| 5-10  | 2,000     |\n",
        "| 10-24 | 2,100     |"
      ]
    },
    {
      "cell_type": "markdown",
      "metadata": {
        "id": "CeO69PpmTG6U"
      },
      "source": [
        "You can draw a histogram by just providing bins and counts instead of a list of numbers. So, let's try that."
      ]
    },
    {
      "cell_type": "code",
      "execution_count": 3,
      "metadata": {
        "execution": {
          "iopub.execute_input": "2020-06-14T19:55:09.164Z",
          "iopub.status.busy": "2020-06-14T19:55:09.141Z",
          "iopub.status.idle": "2020-06-14T19:55:09.196Z",
          "shell.execute_reply": "2020-06-14T19:55:09.215Z"
        },
        "id": "FZPPq6inTG6U"
      },
      "outputs": [],
      "source": [
        "bins = [0, 1, 3, 5, 10, 24]\n",
        "data = {0.5: 4300, 2: 6900, 4: 4900, 7: 2000, 15: 2100}"
      ]
    },
    {
      "cell_type": "code",
      "execution_count": 4,
      "metadata": {
        "colab": {
          "base_uri": "https://localhost:8080/"
        },
        "execution": {
          "iopub.execute_input": "2020-06-14T19:55:11.108Z",
          "iopub.status.busy": "2020-06-14T19:55:11.089Z",
          "iopub.status.idle": "2020-06-14T19:55:11.146Z",
          "shell.execute_reply": "2020-06-14T19:55:11.165Z"
        },
        "id": "0kJUBT1hTG6U",
        "jupyter": {
          "outputs_hidden": false
        },
        "outputId": "ea9f3817-03b3-45ce-e49c-f0b2eae47beb"
      },
      "outputs": [
        {
          "output_type": "execute_result",
          "data": {
            "text/plain": [
              "dict_keys([0.5, 2, 4, 7, 15])"
            ]
          },
          "metadata": {},
          "execution_count": 4
        }
      ],
      "source": [
        "data.keys()"
      ]
    },
    {
      "cell_type": "markdown",
      "metadata": {
        "id": "dLAjvNswTG6V"
      },
      "source": [
        "**Q: Draw histogram using this data.** Useful query: [Google search: matplotlib histogram pre-counted](https://www.google.com/search?client=safari&rls=en&q=matplotlib+histogram+already+counted&ie=UTF-8&oe=UTF-8#q=matplotlib+histogram+pre-counted)"
      ]
    },
    {
      "cell_type": "code",
      "execution_count": 5,
      "metadata": {
        "colab": {
          "base_uri": "https://localhost:8080/",
          "height": 449
        },
        "execution": {
          "iopub.execute_input": "2020-06-14T19:55:50.412Z",
          "iopub.status.busy": "2020-06-14T19:55:50.391Z",
          "iopub.status.idle": "2020-06-14T19:55:50.511Z",
          "shell.execute_reply": "2020-06-14T19:55:50.533Z"
        },
        "id": "wo4Z0fgRTG6V",
        "jupyter": {
          "outputs_hidden": false
        },
        "outputId": "63ddfd32-fb36-4646-ab9e-74d8433de0a6"
      },
      "outputs": [
        {
          "output_type": "display_data",
          "data": {
            "text/plain": [
              "<Figure size 640x480 with 1 Axes>"
            ],
            "image/png": "[encoded data removed]"
          },
          "metadata": {}
        }
      ],
      "source": [
        "# YOUR SOLUTION HERE\n",
        "\n",
        "bins = [0, 1, 3, 5, 10, 24]\n",
        "frequencies = [4300, 6900, 4900, 2000, 2100]\n",
        "plt.hist(bins[:-1], bins=bins, weights=frequencies)\n",
        "plt.xlabel('Hours')\n",
        "plt.ylabel('Frequency')\n",
        "plt.show()"
      ]
    },
    {
      "cell_type": "markdown",
      "metadata": {
        "id": "jdeSwaifTG6W"
      },
      "source": [
        "As you can see, the **default histogram does not normalize with binwidth and simply shows the counts**! This can be very misleading if you are working with variable bin width (e.g. logarithmic bins). So please be mindful about histograms when you work with variable bins.\n",
        "\n",
        "**Q: You can fix this by using the `density` option.**"
      ]
    },
    {
      "cell_type": "code",
      "execution_count": 6,
      "metadata": {
        "colab": {
          "base_uri": "https://localhost:8080/",
          "height": 449
        },
        "execution": {
          "iopub.execute_input": "2020-06-14T19:55:58.905Z",
          "iopub.status.busy": "2020-06-14T19:55:58.882Z",
          "iopub.status.idle": "2020-06-14T19:55:58.991Z",
          "shell.execute_reply": "2020-06-14T19:55:59.009Z"
        },
        "id": "4ucfqdvvTG6W",
        "jupyter": {
          "outputs_hidden": false
        },
        "outputId": "d427cacf-562d-4b4e-93ed-30a2d8041f44"
      },
      "outputs": [
        {
          "output_type": "display_data",
          "data": {
            "text/plain": [
              "<Figure size 640x480 with 1 Axes>"
            ],
            "image/png": "[encoded data removed]"
          },
          "metadata": {}
        }
      ],
      "source": [
        "# YOUR SOLUTION HERE\n",
        "\n",
        "bins = [0, 1, 3, 5, 10, 24]\n",
        "frequencies = [4300, 6900, 4900, 2000, 2100]\n",
        "plt.hist(bins[:-1], bins=bins, weights=frequencies, density=True)\n",
        "plt.xlabel('Hours')\n",
        "plt.ylabel('Density')\n",
        "plt.show()"
      ]
    },
    {
      "cell_type": "markdown",
      "metadata": {
        "id": "4roBIweOTG6W"
      },
      "source": [
        "## Let's use an actual dataset"
      ]
    },
    {
      "cell_type": "code",
      "execution_count": 7,
      "metadata": {
        "execution": {
          "iopub.execute_input": "2020-06-14T19:56:24.048Z",
          "iopub.status.busy": "2020-06-14T19:56:24.027Z",
          "iopub.status.idle": "2020-06-14T19:56:24.081Z",
          "shell.execute_reply": "2020-06-14T19:56:24.100Z"
        },
        "id": "xPTrYs55TG6X"
      },
      "outputs": [],
      "source": [
        "import vega_datasets"
      ]
    },
    {
      "cell_type": "code",
      "execution_count": 8,
      "metadata": {
        "colab": {
          "base_uri": "https://localhost:8080/",
          "height": 452
        },
        "execution": {
          "iopub.execute_input": "2020-06-14T19:56:25.250Z",
          "iopub.status.busy": "2020-06-14T19:56:25.234Z",
          "iopub.status.idle": "2020-06-14T19:56:25.670Z",
          "shell.execute_reply": "2020-06-14T19:56:25.727Z"
        },
        "id": "a244eCSOTG6X",
        "jupyter": {
          "outputs_hidden": false
        },
        "outputId": "c0874af7-db60-4cbd-c6cb-09d8b72dd5a4"
      },
      "outputs": [
        {
          "output_type": "execute_result",
          "data": {
            "text/plain": [
              "                        Title   US_Gross  Worldwide_Gross  US_DVD_Sales  \\\n",
              "0              The Land Girls   146083.0         146083.0           NaN   \n",
              "1      First Love, Last Rites    10876.0          10876.0           NaN   \n",
              "2  I Married a Strange Person   203134.0         203134.0           NaN   \n",
              "3        Let's Talk About Sex   373615.0         373615.0           NaN   \n",
              "4                        Slam  1009819.0        1087521.0           NaN   \n",
              "\n",
              "   Production_Budget Release_Date MPAA_Rating  Running_Time_min Distributor  \\\n",
              "0          8000000.0  Jun 12 1998           R               NaN    Gramercy   \n",
              "1           300000.0  Aug 07 1998           R               NaN      Strand   \n",
              "2           250000.0  Aug 28 1998        None               NaN   Lionsgate   \n",
              "3           300000.0  Sep 11 1998        None               NaN   Fine Line   \n",
              "4          1000000.0  Oct 09 1998           R               NaN     Trimark   \n",
              "\n",
              "                Source Major_Genre         Creative_Type Director  \\\n",
              "0                 None        None                  None     None   \n",
              "1                 None       Drama                  None     None   \n",
              "2                 None      Comedy                  None     None   \n",
              "3                 None      Comedy                  None     None   \n",
              "4  Original Screenplay       Drama  Contemporary Fiction     None   \n",
              "\n",
              "   Rotten_Tomatoes_Rating  IMDB_Rating  IMDB_Votes  \n",
              "0                     NaN          6.1      1071.0  \n",
              "1                     NaN          6.9       207.0  \n",
              "2                     NaN          6.8       865.0  \n",
              "3                    13.0          NaN         NaN  \n",
              "4                    62.0          3.4       165.0  "
            ],
            "text/html": [
              "\n",
              "  <div id=\"df-ca46ce2d-4278-46d2-b977-6a5e2eb26ac7\" class=\"colab-df-container\">\n",
              "    <div>\n",
              "<style scoped>\n",
              "    .dataframe tbody tr th:only-of-type {\n",
              "        vertical-align: middle;\n",
              "    }\n",
              "\n",
              "    .dataframe tbody tr th {\n",
              "        vertical-align: top;\n",
              "    }\n",
              "\n",
              "    .dataframe thead th {\n",
              "        text-align: right;\n",
              "    }\n",
              "</style>\n",
              "<table border=\"1\" class=\"dataframe\">\n",
              "  <thead>\n",
              "    <tr style=\"text-align: right;\">\n",
              "      <th></th>\n",
              "      <th>Title</th>\n",
              "      <th>US_Gross</th>\n",
              "      <th>Worldwide_Gross</th>\n",
              "      <th>US_DVD_Sales</th>\n",
              "      <th>Production_Budget</th>\n",
              "      <th>Release_Date</th>\n",
              "      <th>MPAA_Rating</th>\n",
              "      <th>Running_Time_min</th>\n",
              "      <th>Distributor</th>\n",
              "      <th>Source</th>\n",
              "      <th>Major_Genre</th>\n",
              "      <th>Creative_Type</th>\n",
              "      <th>Director</th>\n",
              "      <th>Rotten_Tomatoes_Rating</th>\n",
              "      <th>IMDB_Rating</th>\n",
              "      <th>IMDB_Votes</th>\n",
              "    </tr>\n",
              "  </thead>\n",
              "  <tbody>\n",
              "    <tr>\n",
              "      <th>0</th>\n",
              "      <td>The Land Girls</td>\n",
              "      <td>146083.0</td>\n",
              "      <td>146083.0</td>\n",
              "      <td>NaN</td>\n",
              "      <td>8000000.0</td>\n",
              "      <td>Jun 12 1998</td>\n",
              "      <td>R</td>\n",
              "      <td>NaN</td>\n",
              "      <td>Gramercy</td>\n",
              "      <td>None</td>\n",
              "      <td>None</td>\n",
              "      <td>None</td>\n",
              "      <td>None</td>\n",
              "      <td>NaN</td>\n",
              "      <td>6.1</td>\n",
              "      <td>1071.0</td>\n",
              "    </tr>\n",
              "    <tr>\n",
              "      <th>1</th>\n",
              "      <td>First Love, Last Rites</td>\n",
              "      <td>10876.0</td>\n",
              "      <td>10876.0</td>\n",
              "      <td>NaN</td>\n",
              "      <td>300000.0</td>\n",
              "      <td>Aug 07 1998</td>\n",
              "      <td>R</td>\n",
              "      <td>NaN</td>\n",
              "      <td>Strand</td>\n",
              "      <td>None</td>\n",
              "      <td>Drama</td>\n",
              "      <td>None</td>\n",
              "      <td>None</td>\n",
              "      <td>NaN</td>\n",
              "      <td>6.9</td>\n",
              "      <td>207.0</td>\n",
              "    </tr>\n",
              "    <tr>\n",
              "      <th>2</th>\n",
              "      <td>I Married a Strange Person</td>\n",
              "      <td>203134.0</td>\n",
              "      <td>203134.0</td>\n",
              "      <td>NaN</td>\n",
              "      <td>250000.0</td>\n",
              "      <td>Aug 28 1998</td>\n",
              "      <td>None</td>\n",
              "      <td>NaN</td>\n",
              "      <td>Lionsgate</td>\n",
              "      <td>None</td>\n",
              "      <td>Comedy</td>\n",
              "      <td>None</td>\n",
              "      <td>None</td>\n",
              "      <td>NaN</td>\n",
              "      <td>6.8</td>\n",
              "      <td>865.0</td>\n",
              "    </tr>\n",
              "    <tr>\n",
              "      <th>3</th>\n",
              "      <td>Let's Talk About Sex</td>\n",
              "      <td>373615.0</td>\n",
              "      <td>373615.0</td>\n",
              "      <td>NaN</td>\n",
              "      <td>300000.0</td>\n",
              "      <td>Sep 11 1998</td>\n",
              "      <td>None</td>\n",
              "      <td>NaN</td>\n",
              "      <td>Fine Line</td>\n",
              "      <td>None</td>\n",
              "      <td>Comedy</td>\n",
              "      <td>None</td>\n",
              "      <td>None</td>\n",
              "      <td>13.0</td>\n",
              "      <td>NaN</td>\n",
              "      <td>NaN</td>\n",
              "    </tr>\n",
              "    <tr>\n",
              "      <th>4</th>\n",
              "      <td>Slam</td>\n",
              "      <td>1009819.0</td>\n",
              "      <td>1087521.0</td>\n",
              "      <td>NaN</td>\n",
              "      <td>1000000.0</td>\n",
              "      <td>Oct 09 1998</td>\n",
              "      <td>R</td>\n",
              "      <td>NaN</td>\n",
              "      <td>Trimark</td>\n",
              "      <td>Original Screenplay</td>\n",
              "      <td>Drama</td>\n",
              "      <td>Contemporary Fiction</td>\n",
              "      <td>None</td>\n",
              "      <td>62.0</td>\n",
              "      <td>3.4</td>\n",
              "      <td>165.0</td>\n",
              "    </tr>\n",
              "  </tbody>\n",
              "</table>\n",
              "</div>\n",
              "    <div class=\"colab-df-buttons\">\n",
              "\n",
              "  <div class=\"colab-df-container\">\n",
              "    <button class=\"colab-df-convert\" onclick=\"convertToInteractive('df-ca46ce2d-4278-46d2-b977-6a5e2eb26ac7')\"\n",
              "            title=\"Convert this dataframe to an interactive table.\"\n",
              "            style=\"display:none;\">\n",
              "\n",
              "  <svg xmlns=\"http://www.w3.org/2000/svg\" height=\"24px\" viewBox=\"0 -960 960 960\">\n",
              "    <path d=\"M120-120v-720h720v720H120Zm60-500h600v-160H180v160Zm220 220h160v-160H400v160Zm0 220h160v-160H400v160ZM180-400h160v-160H180v160Zm440 0h160v-160H620v160ZM180-180h160v-160H180v160Zm440 0h160v-160H620v160Z\"/>\n",
              "  </svg>\n",
              "    </button>\n",
              "\n",
              "  <style>\n",
              "    .colab-df-container {\n",
              "      display:flex;\n",
              "      gap: 12px;\n",
              "    }\n",
              "\n",
              "    .colab-df-convert {\n",
              "      background-color: #E8F0FE;\n",
              "      border: none;\n",
              "      border-radius: 50%;\n",
              "      cursor: pointer;\n",
              "      display: none;\n",
              "      fill: #1967D2;\n",
              "      height: 32px;\n",
              "      padding: 0 0 0 0;\n",
              "      width: 32px;\n",
              "    }\n",
              "\n",
              "    .colab-df-convert:hover {\n",
              "      background-color: #E2EBFA;\n",
              "      box-shadow: 0px 1px 2px rgba(60, 64, 67, 0.3), 0px 1px 3px 1px rgba(60, 64, 67, 0.15);\n",
              "      fill: #174EA6;\n",
              "    }\n",
              "\n",
              "    .colab-df-buttons div {\n",
              "      margin-bottom: 4px;\n",
              "    }\n",
              "\n",
              "    [theme=dark] .colab-df-convert {\n",
              "      background-color: #3B4455;\n",
              "      fill: #D2E3FC;\n",
              "    }\n",
              "\n",
              "    [theme=dark] .colab-df-convert:hover {\n",
              "      background-color: #434B5C;\n",
              "      box-shadow: 0px 1px 3px 1px rgba(0, 0, 0, 0.15);\n",
              "      filter: drop-shadow(0px 1px 2px rgba(0, 0, 0, 0.3));\n",
              "      fill: #FFFFFF;\n",
              "    }\n",
              "  </style>\n",
              "\n",
              "    <script>\n",
              "      const buttonEl =\n",
              "        document.querySelector('#df-ca46ce2d-4278-46d2-b977-6a5e2eb26ac7 button.colab-df-convert');\n",
              "      buttonEl.style.display =\n",
              "        google.colab.kernel.accessAllowed ? 'block' : 'none';\n",
              "\n",
              "      async function convertToInteractive(key) {\n",
              "        const element = document.querySelector('#df-ca46ce2d-4278-46d2-b977-6a5e2eb26ac7');\n",
              "        const dataTable =\n",
              "          await google.colab.kernel.invokeFunction('convertToInteractive',\n",
              "                                                    [key], {});\n",
              "        if (!dataTable) return;\n",
              "\n",
              "        const docLinkHtml = 'Like what you see? Visit the ' +\n",
              "          '<a target=\"_blank\" href=https://colab.research.google.com/notebooks/data_table.ipynb>data table notebook</a>'\n",
              "          + ' to learn more about interactive tables.';\n",
              "        element.innerHTML = '';\n",
              "        dataTable['output_type'] = 'display_data';\n",
              "        await google.colab.output.renderOutput(dataTable, element);\n",
              "        const docLink = document.createElement('div');\n",
              "        docLink.innerHTML = docLinkHtml;\n",
              "        element.appendChild(docLink);\n",
              "      }\n",
              "    </script>\n",
              "  </div>\n",
              "\n",
              "\n",
              "<div id=\"df-6266d84f-ef47-4251-a696-a30fade509ad\">\n",
              "  <button class=\"colab-df-quickchart\" onclick=\"quickchart('df-6266d84f-ef47-4251-a696-a30fade509ad')\"\n",
              "            title=\"Suggest charts.\"\n",
              "            style=\"display:none;\">\n",
              "\n",
              "<svg xmlns=\"http://www.w3.org/2000/svg\" height=\"24px\"viewBox=\"0 0 24 24\"\n",
              "     width=\"24px\">\n",
              "    <g>\n",
              "        <path d=\"M19 3H5c-1.1 0-2 .9-2 2v14c0 1.1.9 2 2 2h14c1.1 0 2-.9 2-2V5c0-1.1-.9-2-2-2zM9 17H7v-7h2v7zm4 0h-2V7h2v10zm4 0h-2v-4h2v4z\"/>\n",
              "    </g>\n",
              "</svg>\n",
              "  </button>\n",
              "\n",
              "<style>\n",
              "  .colab-df-quickchart {\n",
              "      --bg-color: #E8F0FE;\n",
              "      --fill-color: #1967D2;\n",
              "      --hover-bg-color: #E2EBFA;\n",
              "      --hover-fill-color: #174EA6;\n",
              "      --disabled-fill-color: #AAA;\n",
              "      --disabled-bg-color: #DDD;\n",
              "  }\n",
              "\n",
              "  [theme=dark] .colab-df-quickchart {\n",
              "      --bg-color: #3B4455;\n",
              "      --fill-color: #D2E3FC;\n",
              "      --hover-bg-color: #434B5C;\n",
              "      --hover-fill-color: #FFFFFF;\n",
              "      --disabled-bg-color: #3B4455;\n",
              "      --disabled-fill-color: #666;\n",
              "  }\n",
              "\n",
              "  .colab-df-quickchart {\n",
              "    background-color: var(--bg-color);\n",
              "    border: none;\n",
              "    border-radius: 50%;\n",
              "    cursor: pointer;\n",
              "    display: none;\n",
              "    fill: var(--fill-color);\n",
              "    height: 32px;\n",
              "    padding: 0;\n",
              "    width: 32px;\n",
              "  }\n",
              "\n",
              "  .colab-df-quickchart:hover {\n",
              "    background-color: var(--hover-bg-color);\n",
              "    box-shadow: 0 1px 2px rgba(60, 64, 67, 0.3), 0 1px 3px 1px rgba(60, 64, 67, 0.15);\n",
              "    fill: var(--button-hover-fill-color);\n",
              "  }\n",
              "\n",
              "  .colab-df-quickchart-complete:disabled,\n",
              "  .colab-df-quickchart-complete:disabled:hover {\n",
              "    background-color: var(--disabled-bg-color);\n",
              "    fill: var(--disabled-fill-color);\n",
              "    box-shadow: none;\n",
              "  }\n",
              "\n",
              "  .colab-df-spinner {\n",
              "    border: 2px solid var(--fill-color);\n",
              "    border-color: transparent;\n",
              "    border-bottom-color: var(--fill-color);\n",
              "    animation:\n",
              "      spin 1s steps(1) infinite;\n",
              "  }\n",
              "\n",
              "  @keyframes spin {\n",
              "    0% {\n",
              "      border-color: transparent;\n",
              "      border-bottom-color: var(--fill-color);\n",
              "      border-left-color: var(--fill-color);\n",
              "    }\n",
              "    20% {\n",
              "      border-color: transparent;\n",
              "      border-left-color: var(--fill-color);\n",
              "      border-top-color: var(--fill-color);\n",
              "    }\n",
              "    30% {\n",
              "      border-color: transparent;\n",
              "      border-left-color: var(--fill-color);\n",
              "      border-top-color: var(--fill-color);\n",
              "      border-right-color: var(--fill-color);\n",
              "    }\n",
              "    40% {\n",
              "      border-color: transparent;\n",
              "      border-right-color: var(--fill-color);\n",
              "      border-top-color: var(--fill-color);\n",
              "    }\n",
              "    60% {\n",
              "      border-color: transparent;\n",
              "      border-right-color: var(--fill-color);\n",
              "    }\n",
              "    80% {\n",
              "      border-color: transparent;\n",
              "      border-right-color: var(--fill-color);\n",
              "      border-bottom-color: var(--fill-color);\n",
              "    }\n",
              "    90% {\n",
              "      border-color: transparent;\n",
              "      border-bottom-color: var(--fill-color);\n",
              "    }\n",
              "  }\n",
              "</style>\n",
              "\n",
              "  <script>\n",
              "    async function quickchart(key) {\n",
              "      const quickchartButtonEl =\n",
              "        document.querySelector('#' + key + ' button');\n",
              "      quickchartButtonEl.disabled = true;  // To prevent multiple clicks.\n",
              "      quickchartButtonEl.classList.add('colab-df-spinner');\n",
              "      try {\n",
              "        const charts = await google.colab.kernel.invokeFunction(\n",
              "            'suggestCharts', [key], {});\n",
              "      } catch (error) {\n",
              "        console.error('Error during call to suggestCharts:', error);\n",
              "      }\n",
              "      quickchartButtonEl.classList.remove('colab-df-spinner');\n",
              "      quickchartButtonEl.classList.add('colab-df-quickchart-complete');\n",
              "    }\n",
              "    (() => {\n",
              "      let quickchartButtonEl =\n",
              "        document.querySelector('#df-6266d84f-ef47-4251-a696-a30fade509ad button');\n",
              "      quickchartButtonEl.style.display =\n",
              "        google.colab.kernel.accessAllowed ? 'block' : 'none';\n",
              "    })();\n",
              "  </script>\n",
              "</div>\n",
              "    </div>\n",
              "  </div>\n"
            ]
          },
          "metadata": {},
          "execution_count": 8
        }
      ],
      "source": [
        "movies = vega_datasets.data.movies()\n",
        "movies.head()"
      ]
    },
    {
      "cell_type": "markdown",
      "metadata": {
        "id": "EuyhowKmTG6X"
      },
      "source": [
        "Let's plot the histogram of IMDB ratings."
      ]
    },
    {
      "cell_type": "code",
      "execution_count": 9,
      "metadata": {
        "colab": {
          "base_uri": "https://localhost:8080/",
          "height": 485
        },
        "execution": {
          "iopub.execute_input": "2020-06-14T19:56:30.176Z",
          "iopub.status.busy": "2020-06-14T19:56:30.152Z",
          "iopub.status.idle": "2020-06-14T19:56:30.285Z",
          "shell.execute_reply": "2020-06-14T19:56:30.306Z"
        },
        "id": "lCzR16y5TG6X",
        "jupyter": {
          "outputs_hidden": false
        },
        "outputId": "f13dc2ba-4a79-485f-9cbd-e0f7c2cde754"
      },
      "outputs": [
        {
          "output_type": "execute_result",
          "data": {
            "text/plain": [
              "(array([  9.,  39.,  76., 133., 293., 599., 784., 684., 323.,  48.]),\n",
              " array([1.4 , 2.18, 2.96, 3.74, 4.52, 5.3 , 6.08, 6.86, 7.64, 8.42, 9.2 ]),\n",
              " <BarContainer object of 10 artists>)"
            ]
          },
          "metadata": {},
          "execution_count": 9
        },
        {
          "output_type": "display_data",
          "data": {
            "text/plain": [
              "<Figure size 640x480 with 1 Axes>"
            ],
            "image/png": "[encoded data removed]"
          },
          "metadata": {}
        }
      ],
      "source": [
        "plt.hist(movies.IMDB_Rating)"
      ]
    },
    {
      "cell_type": "markdown",
      "metadata": {
        "id": "az_zAN5wTG6Y"
      },
      "source": [
        "Did you get an error or a warning? What's going on?\n",
        "\n",
        "The problem is that the column contains `NaN` (Not a Number) values, which represent missing data points. The following command check whether each value is a `NaN` and returns the result."
      ]
    },
    {
      "cell_type": "markdown",
      "source": [
        "Did not get a warning."
      ],
      "metadata": {
        "id": "AA5IA94xI56H"
      }
    },
    {
      "cell_type": "code",
      "execution_count": 10,
      "metadata": {
        "colab": {
          "base_uri": "https://localhost:8080/"
        },
        "execution": {
          "iopub.execute_input": "2020-06-14T19:56:48.429Z",
          "iopub.status.busy": "2020-06-14T19:56:48.411Z",
          "iopub.status.idle": "2020-06-14T19:56:48.468Z",
          "shell.execute_reply": "2020-06-14T19:56:48.486Z"
        },
        "id": "x3jwldMSTG6Y",
        "jupyter": {
          "outputs_hidden": false
        },
        "outputId": "d9f881f1-4be8-4563-d7ae-68bedf087b94"
      },
      "outputs": [
        {
          "output_type": "execute_result",
          "data": {
            "text/plain": [
              "0       False\n",
              "1       False\n",
              "2       False\n",
              "3        True\n",
              "4       False\n",
              "        ...  \n",
              "3196    False\n",
              "3197     True\n",
              "3198    False\n",
              "3199    False\n",
              "3200    False\n",
              "Name: IMDB_Rating, Length: 3201, dtype: bool"
            ]
          },
          "metadata": {},
          "execution_count": 10
        }
      ],
      "source": [
        "movies.IMDB_Rating.isna()"
      ]
    },
    {
      "cell_type": "markdown",
      "metadata": {
        "id": "OxBEfsovTG6Y"
      },
      "source": [
        "As you can see there are a bunch of missing rows. You can count them."
      ]
    },
    {
      "cell_type": "code",
      "execution_count": 11,
      "metadata": {
        "colab": {
          "base_uri": "https://localhost:8080/"
        },
        "execution": {
          "iopub.execute_input": "2020-06-14T19:56:51.688Z",
          "iopub.status.busy": "2020-06-14T19:56:51.671Z",
          "iopub.status.idle": "2020-06-14T19:56:51.722Z",
          "shell.execute_reply": "2020-06-14T19:56:51.739Z"
        },
        "id": "3FfJ3a34TG6Y",
        "jupyter": {
          "outputs_hidden": false
        },
        "outputId": "821c805b-12ee-4fba-e462-c845395704fa"
      },
      "outputs": [
        {
          "output_type": "execute_result",
          "data": {
            "text/plain": [
              "213"
            ]
          },
          "metadata": {},
          "execution_count": 11
        }
      ],
      "source": [
        "sum(movies.IMDB_Rating.isna())"
      ]
    },
    {
      "cell_type": "markdown",
      "metadata": {
        "id": "i1BRz3o5TG6Z"
      },
      "source": [
        "or drop them."
      ]
    },
    {
      "cell_type": "code",
      "execution_count": 12,
      "metadata": {
        "colab": {
          "base_uri": "https://localhost:8080/"
        },
        "execution": {
          "iopub.execute_input": "2020-06-14T19:56:52.894Z",
          "iopub.status.busy": "2020-06-14T19:56:52.876Z",
          "iopub.status.idle": "2020-06-14T19:56:52.932Z",
          "shell.execute_reply": "2020-06-14T19:56:52.950Z"
        },
        "id": "vwa6CfbsTG6Z",
        "jupyter": {
          "outputs_hidden": false
        },
        "outputId": "dbd1f380-6523-4683-a982-f6f395fd4256"
      },
      "outputs": [
        {
          "output_type": "execute_result",
          "data": {
            "text/plain": [
              "2988"
            ]
          },
          "metadata": {},
          "execution_count": 12
        }
      ],
      "source": [
        "IMDB_ratings_nan_dropped = movies.IMDB_Rating.dropna()\n",
        "len(IMDB_ratings_nan_dropped)"
      ]
    },
    {
      "cell_type": "code",
      "execution_count": 13,
      "metadata": {
        "colab": {
          "base_uri": "https://localhost:8080/"
        },
        "execution": {
          "iopub.execute_input": "2020-06-14T19:56:54.792Z",
          "iopub.status.busy": "2020-06-14T19:56:54.775Z",
          "iopub.status.idle": "2020-06-14T19:56:54.826Z",
          "shell.execute_reply": "2020-06-14T19:56:54.843Z"
        },
        "id": "vVZ3sm-ITG6Z",
        "jupyter": {
          "outputs_hidden": false
        },
        "outputId": "12339d6c-36d7-4323-bd75-77c7248216a9"
      },
      "outputs": [
        {
          "output_type": "execute_result",
          "data": {
            "text/plain": [
              "3201"
            ]
          },
          "metadata": {},
          "execution_count": 13
        }
      ],
      "source": [
        "213 + 2988"
      ]
    },
    {
      "cell_type": "markdown",
      "metadata": {
        "id": "v_MDtrt_TG6Z"
      },
      "source": [
        "The `dropna` can be applied to the dataframe too.\n",
        "\n",
        "**Q: drop rows from `movies` dataframe where either `IMDB_Rating` or `IMDB_Votes` is `NaN`.**"
      ]
    },
    {
      "cell_type": "code",
      "execution_count": 14,
      "metadata": {
        "execution": {
          "iopub.execute_input": "2020-06-14T19:56:55.835Z",
          "iopub.status.busy": "2020-06-14T19:56:55.817Z",
          "iopub.status.idle": "2020-06-14T19:56:55.861Z",
          "shell.execute_reply": "2020-06-14T19:56:55.878Z"
        },
        "id": "eUxZKFWkTG6Z"
      },
      "outputs": [],
      "source": [
        "# YOUR SOLUTION HERE\n",
        "movies.dropna(subset=['IMDB_Rating', 'IMDB_Votes'], inplace=True)"
      ]
    },
    {
      "cell_type": "code",
      "execution_count": 15,
      "metadata": {
        "colab": {
          "base_uri": "https://localhost:8080/"
        },
        "execution": {
          "iopub.execute_input": "2020-06-14T19:56:56.768Z",
          "iopub.status.busy": "2020-06-14T19:56:56.751Z",
          "iopub.status.idle": "2020-06-14T19:56:56.803Z",
          "shell.execute_reply": "2020-06-14T19:56:56.819Z"
        },
        "id": "c6jSjbxhTG6a",
        "jupyter": {
          "outputs_hidden": false
        },
        "outputId": "882d31bb-52ba-4a88-846d-ac300202b861"
      },
      "outputs": [
        {
          "output_type": "stream",
          "name": "stdout",
          "text": [
            "0 0\n"
          ]
        }
      ],
      "source": [
        "# Both should be zero.\n",
        "print(sum(movies.IMDB_Rating.isna()), sum(movies.IMDB_Votes.isna()))"
      ]
    },
    {
      "cell_type": "markdown",
      "metadata": {
        "id": "4ZeoyhBJTG6a"
      },
      "source": [
        "How does `matplotlib` decides the bins? Actually `matplotlib`'s `hist` function uses `numpy`'s `histogram` function under the hood."
      ]
    },
    {
      "cell_type": "markdown",
      "metadata": {
        "id": "fOlXNjFyTG6a"
      },
      "source": [
        "**Q: Plot the histogram of movie ratings (`IMDB_Rating`) using the `plt.hist()` function.**"
      ]
    },
    {
      "cell_type": "code",
      "execution_count": 16,
      "metadata": {
        "colab": {
          "base_uri": "https://localhost:8080/",
          "height": 449
        },
        "execution": {
          "iopub.execute_input": "2020-06-14T19:57:00.883Z",
          "iopub.status.busy": "2020-06-14T19:57:00.865Z",
          "iopub.status.idle": "2020-06-14T19:57:00.973Z",
          "shell.execute_reply": "2020-06-14T19:57:01.058Z"
        },
        "id": "rn1cO2ByTG6a",
        "jupyter": {
          "outputs_hidden": false
        },
        "outputId": "9b9f14da-05c4-49b6-c225-c83e62afc5d0"
      },
      "outputs": [
        {
          "output_type": "display_data",
          "data": {
            "text/plain": [
              "<Figure size 640x480 with 1 Axes>"
            ],
            "image/png": "[encoded data removed]"
          },
          "metadata": {}
        }
      ],
      "source": [
        "# YOUR SOLUTION HERE\n",
        "\n",
        "movies = movies.dropna(subset=['IMDB_Rating'])\n",
        "plt.hist(movies['IMDB_Rating'], bins=10)\n",
        "plt.xlabel('IMDB Rating')\n",
        "plt.ylabel('Frequency')\n",
        "plt.show()"
      ]
    },
    {
      "cell_type": "markdown",
      "metadata": {
        "id": "3BelR31kTG6a"
      },
      "source": [
        "Have you noticed that this function returns three objects? Take a look at the documentation [here](http://matplotlib.org/api/pyplot_api.html#matplotlib.pyplot.hist) to figure out what they are.\n",
        "\n",
        "To get the returned three objects:"
      ]
    },
    {
      "cell_type": "code",
      "execution_count": 17,
      "metadata": {
        "colab": {
          "base_uri": "https://localhost:8080/",
          "height": 467
        },
        "execution": {
          "iopub.execute_input": "2020-06-14T19:57:04.322Z",
          "iopub.status.busy": "2020-06-14T19:57:04.229Z",
          "iopub.status.idle": "2020-06-14T19:57:05.023Z",
          "shell.execute_reply": "2020-06-14T19:57:05.046Z"
        },
        "id": "qrmt7ma_TG6a",
        "jupyter": {
          "outputs_hidden": false
        },
        "outputId": "85da8f4b-58c4-4a26-e7e7-075ab43c757a"
      },
      "outputs": [
        {
          "output_type": "stream",
          "name": "stdout",
          "text": [
            "[  9.  39.  76. 133. 293. 599. 784. 684. 323.  48.]\n",
            "[1.4  2.18 2.96 3.74 4.52 5.3  6.08 6.86 7.64 8.42 9.2 ]\n"
          ]
        },
        {
          "output_type": "display_data",
          "data": {
            "text/plain": [
              "<Figure size 640x480 with 1 Axes>"
            ],
            "image/png": "[encoded data removed]"
          },
          "metadata": {}
        }
      ],
      "source": [
        "n_raw, bins_raw, patches = plt.hist(movies.IMDB_Rating)\n",
        "print(n_raw)\n",
        "print(bins_raw)"
      ]
    },
    {
      "cell_type": "markdown",
      "metadata": {
        "id": "1SUgGDBwTG6b"
      },
      "source": [
        "Here, `n_raw` contains the values of histograms, i.e., the number of movies in each of the 10 bins. Thus, the sum of the elements in `n_raw` should be equal to the total number of movies.\n",
        "\n",
        "**Q: Test whether the sum of values in `n_raw` is equal to the number of movies in the `movies` dataset**"
      ]
    },
    {
      "cell_type": "code",
      "execution_count": 18,
      "metadata": {
        "colab": {
          "base_uri": "https://localhost:8080/"
        },
        "execution": {
          "iopub.execute_input": "2020-06-14T19:57:07.793Z",
          "iopub.status.busy": "2020-06-14T19:57:07.778Z",
          "iopub.status.idle": "2020-06-14T19:57:07.833Z",
          "shell.execute_reply": "2020-06-14T19:57:07.849Z"
        },
        "id": "iCGZ-jN2TG6b",
        "jupyter": {
          "outputs_hidden": false
        },
        "outputId": "cd0a4267-241f-4bdc-80d9-b7b16fa0eafd"
      },
      "outputs": [
        {
          "output_type": "stream",
          "name": "stdout",
          "text": [
            "2988.0\n",
            "2988\n",
            "True\n"
          ]
        }
      ],
      "source": [
        "# YOUR SOLUTION HERE\n",
        "\n",
        "imdb_ratings = movies['IMDB_Rating']\n",
        "sum_n_raw = sum(n_raw)\n",
        "num_movies = len(movies)\n",
        "result = sum_n_raw == num_movies\n",
        "print(sum_n_raw)\n",
        "print(num_movies)\n",
        "print(result)"
      ]
    },
    {
      "cell_type": "code",
      "source": [],
      "metadata": {
        "id": "dDUDXnWVJzYw"
      },
      "execution_count": 18,
      "outputs": []
    },
    {
      "cell_type": "markdown",
      "metadata": {
        "id": "c9gIcp06TG6b"
      },
      "source": [
        "The second returned object (`bins_raw`) is a list containing the edges of the 10 bins: the first bin is \\[1.4, 2.18\\], the second \\[2.18, 2.96\\], and so on. What's the width of the bins?"
      ]
    },
    {
      "cell_type": "code",
      "execution_count": 19,
      "metadata": {
        "colab": {
          "base_uri": "https://localhost:8080/"
        },
        "execution": {
          "iopub.execute_input": "2020-06-14T19:57:10.040Z",
          "iopub.status.busy": "2020-06-14T19:57:10.025Z",
          "iopub.status.idle": "2020-06-14T19:57:10.081Z",
          "shell.execute_reply": "2020-06-14T19:57:10.097Z"
        },
        "id": "im5eQCroTG6b",
        "jupyter": {
          "outputs_hidden": false
        },
        "outputId": "d3f49da5-afc1-4de1-8785-ceee9243089e"
      },
      "outputs": [
        {
          "output_type": "execute_result",
          "data": {
            "text/plain": [
              "array([0.78, 0.78, 0.78, 0.78, 0.78, 0.78, 0.78, 0.78, 0.78, 0.78])"
            ]
          },
          "metadata": {},
          "execution_count": 19
        }
      ],
      "source": [
        "np.diff(bins_raw)"
      ]
    },
    {
      "cell_type": "markdown",
      "metadata": {
        "id": "C3TsmP_RTG6b"
      },
      "source": [
        "The width is same as the maximum value minus minimum value, divided by 10."
      ]
    },
    {
      "cell_type": "code",
      "execution_count": 20,
      "metadata": {
        "colab": {
          "base_uri": "https://localhost:8080/"
        },
        "execution": {
          "iopub.execute_input": "2020-06-14T19:57:11.016Z",
          "iopub.status.busy": "2020-06-14T19:57:10.997Z",
          "iopub.status.idle": "2020-06-14T19:57:11.052Z",
          "shell.execute_reply": "2020-06-14T19:57:11.068Z"
        },
        "id": "GxrmxezwTG6b",
        "jupyter": {
          "outputs_hidden": false
        },
        "outputId": "3bc00e60-264a-4369-af1b-035aa60e4d24"
      },
      "outputs": [
        {
          "output_type": "stream",
          "name": "stdout",
          "text": [
            "1.4 9.2\n",
            "0.7799999999999999\n"
          ]
        }
      ],
      "source": [
        "min_rating = min(movies.IMDB_Rating)\n",
        "max_rating = max(movies.IMDB_Rating)\n",
        "print(min_rating, max_rating)\n",
        "print( (max_rating-min_rating) / 10 )"
      ]
    },
    {
      "cell_type": "markdown",
      "metadata": {
        "id": "JGxvd4CGTG6c"
      },
      "source": [
        "Now, let's plot a normalized (density) histogram."
      ]
    },
    {
      "cell_type": "code",
      "execution_count": 21,
      "metadata": {
        "colab": {
          "base_uri": "https://localhost:8080/",
          "height": 487
        },
        "execution": {
          "iopub.execute_input": "2020-06-14T19:57:12.070Z",
          "iopub.status.busy": "2020-06-14T19:57:12.053Z",
          "iopub.status.idle": "2020-06-14T19:57:12.176Z",
          "shell.execute_reply": "2020-06-14T19:57:12.239Z"
        },
        "id": "OIrthY8ATG6c",
        "jupyter": {
          "outputs_hidden": false
        },
        "outputId": "63974367-12c3-4669-e3a9-92fb02cc86f6"
      },
      "outputs": [
        {
          "output_type": "stream",
          "name": "stdout",
          "text": [
            "[0.0038616  0.0167336  0.03260907 0.05706587 0.12571654 0.25701095\n",
            " 0.33638829 0.29348162 0.13858854 0.0205952 ]\n",
            "[1.4  2.18 2.96 3.74 4.52 5.3  6.08 6.86 7.64 8.42 9.2 ]\n"
          ]
        },
        {
          "output_type": "display_data",
          "data": {
            "text/plain": [
              "<Figure size 640x480 with 1 Axes>"
            ],
            "image/png": "[encoded data removed]"
          },
          "metadata": {}
        }
      ],
      "source": [
        "n, bins, patches = plt.hist(movies.IMDB_Rating, density=True)\n",
        "print(n)\n",
        "print(bins)"
      ]
    },
    {
      "cell_type": "markdown",
      "metadata": {
        "id": "-qKKEOXMTG6c"
      },
      "source": [
        "The ten bins do not change. But now `n` represents the density of the data inside each bin. In other words, the sum of the area of each bar will equal to 1.\n",
        "\n",
        "**Q: Can you verify this?**\n",
        "\n",
        "Hint: the area of each bar is calculated as height * width. You may get something like 0.99999999999999978 instead of 1."
      ]
    },
    {
      "cell_type": "code",
      "execution_count": 22,
      "metadata": {
        "colab": {
          "base_uri": "https://localhost:8080/"
        },
        "execution": {
          "iopub.execute_input": "2020-06-14T19:57:13.305Z",
          "iopub.status.busy": "2020-06-14T19:57:13.290Z",
          "iopub.status.idle": "2020-06-14T19:57:13.338Z",
          "shell.execute_reply": "2020-06-14T19:57:13.353Z"
        },
        "id": "HtDdUJUdTG6c",
        "jupyter": {
          "outputs_hidden": false
        },
        "outputId": "9e3d6843-6fbd-4a25-d9f5-73b2f1eec997"
      },
      "outputs": [
        {
          "output_type": "stream",
          "name": "stdout",
          "text": [
            "Sum of areas = 0.9999999999999997\n",
            "close to 1 =  True\n"
          ]
        }
      ],
      "source": [
        "# YOUR SOLUTION HERE\n",
        "\n",
        "bin_width = bins[1] - bins[0]\n",
        "sum_of_areas = sum(n * bin_width)\n",
        "is_close_to_1 = abs(sum_of_areas - 1) < 1e-10\n",
        "print(\"Sum of areas =\", sum_of_areas)\n",
        "print(\"close to 1 = \", is_close_to_1)"
      ]
    },
    {
      "cell_type": "markdown",
      "metadata": {
        "id": "ugwtR9guTG6c"
      },
      "source": [
        "Anyway, these data generated from the `hist` function is calculated from `numpy`'s `histogram` function. https://docs.scipy.org/doc/numpy/reference/generated/numpy.histogram.html\n",
        "\n",
        "Note that the result of `np.histogram()` is same as that of `plt.hist()`."
      ]
    },
    {
      "cell_type": "code",
      "execution_count": 23,
      "metadata": {
        "colab": {
          "base_uri": "https://localhost:8080/"
        },
        "execution": {
          "iopub.execute_input": "2020-06-14T19:57:14.303Z",
          "iopub.status.busy": "2020-06-14T19:57:14.287Z",
          "iopub.status.idle": "2020-06-14T19:57:14.334Z",
          "shell.execute_reply": "2020-06-14T19:57:14.349Z"
        },
        "id": "xn-WpuKiTG6c",
        "jupyter": {
          "outputs_hidden": false
        },
        "outputId": "899d3d04-f0a2-462e-ccc6-9420a5d0a06c"
      },
      "outputs": [
        {
          "output_type": "execute_result",
          "data": {
            "text/plain": [
              "(array([  9,  39,  76, 133, 293, 599, 784, 684, 323,  48]),\n",
              " array([1.4 , 2.18, 2.96, 3.74, 4.52, 5.3 , 6.08, 6.86, 7.64, 8.42, 9.2 ]))"
            ]
          },
          "metadata": {},
          "execution_count": 23
        }
      ],
      "source": [
        "np.histogram(movies.IMDB_Rating)"
      ]
    },
    {
      "cell_type": "code",
      "execution_count": 24,
      "metadata": {
        "colab": {
          "base_uri": "https://localhost:8080/",
          "height": 485
        },
        "execution": {
          "iopub.execute_input": "2020-06-14T19:57:14.903Z",
          "iopub.status.busy": "2020-06-14T19:57:14.885Z",
          "iopub.status.idle": "2020-06-14T19:57:14.997Z",
          "shell.execute_reply": "2020-06-14T19:57:15.015Z"
        },
        "id": "a1DPjJI7TG6c",
        "jupyter": {
          "outputs_hidden": false
        },
        "outputId": "1ea95057-1310-4ee1-ad83-df7b0eb2d1c1"
      },
      "outputs": [
        {
          "output_type": "execute_result",
          "data": {
            "text/plain": [
              "(array([  9.,  39.,  76., 133., 293., 599., 784., 684., 323.,  48.]),\n",
              " array([1.4 , 2.18, 2.96, 3.74, 4.52, 5.3 , 6.08, 6.86, 7.64, 8.42, 9.2 ]),\n",
              " <BarContainer object of 10 artists>)"
            ]
          },
          "metadata": {},
          "execution_count": 24
        },
        {
          "output_type": "display_data",
          "data": {
            "text/plain": [
              "<Figure size 640x480 with 1 Axes>"
            ],
            "image/png": "[encoded data removed]"
          },
          "metadata": {}
        }
      ],
      "source": [
        "plt.hist(movies.IMDB_Rating)"
      ]
    },
    {
      "cell_type": "markdown",
      "metadata": {
        "id": "o4ArxCNETG6d"
      },
      "source": [
        "If you look at the documentation, you can see that `numpy` uses simply 10 as the default number of bins. But you can set it manually or set it to be `auto`, which is the \"Maximum of the `sturges` and `fd` estimators.\". Let's try this `auto` option."
      ]
    },
    {
      "cell_type": "code",
      "execution_count": 25,
      "metadata": {
        "colab": {
          "base_uri": "https://localhost:8080/",
          "height": 430
        },
        "execution": {
          "iopub.execute_input": "2020-06-14T19:57:15.850Z",
          "iopub.status.busy": "2020-06-14T19:57:15.833Z",
          "iopub.status.idle": "2020-06-14T19:57:15.998Z",
          "shell.execute_reply": "2020-06-14T19:57:16.015Z"
        },
        "id": "g04dPJySTG6d",
        "jupyter": {
          "outputs_hidden": false
        },
        "outputId": "12231d57-4a40-4291-b8e1-3374751a386c"
      },
      "outputs": [
        {
          "output_type": "display_data",
          "data": {
            "text/plain": [
              "<Figure size 640x480 with 1 Axes>"
            ],
            "image/png": "[encoded data removed]"
          },
          "metadata": {}
        }
      ],
      "source": [
        "_ = plt.hist(movies.IMDB_Rating, bins='auto')"
      ]
    },
    {
      "cell_type": "markdown",
      "metadata": {
        "id": "TM_jST11TG6d"
      },
      "source": [
        "## Consequences of the binning parameter\n",
        "\n",
        "Let's explore the effect of bin size using small multiples. In `matplotlib`, you can use [subplot](https://www.google.com/search?client=safari&rls=en&q=matplotlib+subplot&ie=UTF-8&oe=UTF-8) to put multiple plots into a single figure.\n",
        "\n",
        "For instance, you can do something like:"
      ]
    },
    {
      "cell_type": "code",
      "execution_count": 26,
      "metadata": {
        "colab": {
          "base_uri": "https://localhost:8080/",
          "height": 463
        },
        "execution": {
          "iopub.execute_input": "2020-06-14T19:57:17.609Z",
          "iopub.status.busy": "2020-06-14T19:57:17.591Z",
          "iopub.status.idle": "2020-06-14T19:57:17.858Z",
          "shell.execute_reply": "2020-06-14T19:57:17.878Z"
        },
        "id": "4lliCeD6TG6d",
        "jupyter": {
          "outputs_hidden": false
        },
        "outputId": "201d0f0a-fc44-4bc3-b283-37b2656a5bb4"
      },
      "outputs": [
        {
          "output_type": "execute_result",
          "data": {
            "text/plain": [
              "<Axes: >"
            ]
          },
          "metadata": {},
          "execution_count": 26
        },
        {
          "output_type": "display_data",
          "data": {
            "text/plain": [
              "<Figure size 1000x500 with 2 Axes>"
            ],
            "image/png": "[encoded data removed]"
          },
          "metadata": {}
        }
      ],
      "source": [
        "plt.figure(figsize=(10,5))\n",
        "plt.subplot(1,2,1)\n",
        "movies.IMDB_Rating.hist(bins=3)\n",
        "plt.subplot(1,2,2)\n",
        "movies.IMDB_Rating.hist(bins=20)"
      ]
    },
    {
      "cell_type": "markdown",
      "metadata": {
        "id": "XXIbKfeWTG6d"
      },
      "source": [
        "What does the argument in `plt.subplot(1,2,1)` mean? If you're not sure, check out: http://stackoverflow.com/questions/3584805/in-matplotlib-what-does-the-argument-mean-in-fig-add-subplot111\n",
        "\n",
        "**Q: create 8 subplots (2 rows and 4 columns) with the following `binsizes`.**"
      ]
    },
    {
      "cell_type": "code",
      "execution_count": 27,
      "metadata": {
        "colab": {
          "base_uri": "https://localhost:8080/",
          "height": 772
        },
        "execution": {
          "iopub.execute_input": "2020-06-14T19:57:19.049Z",
          "iopub.status.busy": "2020-06-14T19:57:19.029Z",
          "iopub.status.idle": "2020-06-14T19:57:20.201Z",
          "shell.execute_reply": "2020-06-14T19:57:20.255Z"
        },
        "id": "jlYvPcu-TG6d",
        "jupyter": {
          "outputs_hidden": false
        },
        "outputId": "c8a7f256-944e-4768-ca8a-f8870dc1f2af"
      },
      "outputs": [
        {
          "output_type": "display_data",
          "data": {
            "text/plain": [
              "<Figure size 1000x800 with 8 Axes>"
            ],
            "image/png": "[encoded data removed]"
          },
          "metadata": {}
        }
      ],
      "source": [
        "nbins = [2, 3, 5, 10, 30, 40, 60, 100 ]\n",
        "fig = plt.figure(figsize=(10, 8))\n",
        "\n",
        "# YOUR SOLUTION HERE\n",
        "\n",
        "for i, n in enumerate(nbins, 1):\n",
        "    plt.subplot(2, 4, i)\n",
        "    plt.hist(movies.IMDB_Rating, bins=n)\n",
        "    plt.title(f'Bin Size = {n}')\n",
        "    plt.xlabel('IMDB Rating')\n",
        "    plt.ylabel('Frequency')\n",
        "    x_ticks = np.arange(2, 10, 2)\n",
        "    plt.xticks(x_ticks)\n",
        "    plt.grid(True)\n",
        "plt.tight_layout()\n",
        "plt.show()"
      ]
    },
    {
      "cell_type": "markdown",
      "metadata": {
        "id": "EhkbFVmOTG6d"
      },
      "source": [
        "Do you see the issues with having too few bins or too many bins? In particular, do you notice weird patterns that emerge from `bins=30`?\n",
        "\n",
        "**Q: Can you guess why do you see such patterns? What are the peaks and what are the empty bars? What do they tell you about choosing the binsize in histograms?**"
      ]
    },
    {
      "cell_type": "code",
      "execution_count": 28,
      "metadata": {
        "colab": {
          "base_uri": "https://localhost:8080/",
          "height": 522
        },
        "execution": {
          "iopub.execute_input": "2020-06-14T19:57:21.486Z",
          "iopub.status.busy": "2020-06-14T19:57:21.468Z",
          "iopub.status.idle": "2020-06-14T19:57:21.640Z",
          "shell.execute_reply": "2020-06-14T19:57:21.689Z"
        },
        "id": "_RYXN95UTG6e",
        "jupyter": {
          "outputs_hidden": false
        },
        "outputId": "d637e5d0-dce6-482e-d40d-4b11a7e18536"
      },
      "outputs": [
        {
          "output_type": "execute_result",
          "data": {
            "text/plain": [
              "(array([  5.,   4.,  18.,  21.,  27.,  49.,  55.,  78., 164., 129., 269.,\n",
              "        330., 385., 399., 375., 309., 214., 109.,  38.,  10.]),\n",
              " array([1.4 , 1.79, 2.18, 2.57, 2.96, 3.35, 3.74, 4.13, 4.52, 4.91, 5.3 ,\n",
              "        5.69, 6.08, 6.47, 6.86, 7.25, 7.64, 8.03, 8.42, 8.81, 9.2 ]),\n",
              " <BarContainer object of 20 artists>)"
            ]
          },
          "metadata": {},
          "execution_count": 28
        },
        {
          "output_type": "display_data",
          "data": {
            "text/plain": [
              "<Figure size 640x480 with 1 Axes>"
            ],
            "image/png": "[encoded data removed]"
          },
          "metadata": {}
        }
      ],
      "source": [
        "# YOUR SOLUTION HERE\n",
        "plt.hist(movies.IMDB_Rating, bins=20)"
      ]
    },
    {
      "cell_type": "code",
      "execution_count": 29,
      "metadata": {
        "colab": {
          "base_uri": "https://localhost:8080/"
        },
        "execution": {
          "iopub.execute_input": "2020-06-14T19:57:22.246Z",
          "iopub.status.busy": "2020-06-14T19:57:22.230Z",
          "iopub.status.idle": "2020-06-14T19:57:22.280Z",
          "shell.execute_reply": "2020-06-14T19:57:22.297Z"
        },
        "id": "okuF4FOzTG6e",
        "jupyter": {
          "outputs_hidden": false
        },
        "outputId": "cbfd4e31-3280-497f-b0ab-17605f6c2041"
      },
      "outputs": [
        {
          "output_type": "execute_result",
          "data": {
            "text/plain": [
              "10"
            ]
          },
          "metadata": {},
          "execution_count": 29
        }
      ],
      "source": [
        "# YOUR SOLUTION HERE\n",
        "num_bins = int((max(imdb_ratings) - min(imdb_ratings)) / bin_width)\n",
        "num_bins"
      ]
    },
    {
      "cell_type": "code",
      "execution_count": 30,
      "metadata": {
        "colab": {
          "base_uri": "https://localhost:8080/"
        },
        "execution": {
          "iopub.execute_input": "2020-06-14T19:57:23.138Z",
          "iopub.status.busy": "2020-06-14T19:57:23.119Z",
          "iopub.status.idle": "2020-06-14T19:57:23.174Z",
          "shell.execute_reply": "2020-06-14T19:57:23.191Z"
        },
        "id": "RrYu5YIzTG6e",
        "jupyter": {
          "outputs_hidden": false
        },
        "outputId": "a38f147a-7940-45f9-a8e0-e94db8ed91b8"
      },
      "outputs": [
        {
          "output_type": "execute_result",
          "data": {
            "text/plain": [
              "array([1.4 , 2.18, 2.96, 3.74, 4.52, 5.3 , 6.08, 6.86, 7.64, 8.42, 9.2 ])"
            ]
          },
          "metadata": {},
          "execution_count": 30
        }
      ],
      "source": [
        "# YOUR SOLUTION HERE\n",
        "bin_edges = np.histogram(movies.IMDB_Rating, bins=num_bins)[1]\n",
        "bin_edges"
      ]
    },
    {
      "cell_type": "code",
      "execution_count": 31,
      "metadata": {
        "colab": {
          "base_uri": "https://localhost:8080/"
        },
        "execution": {
          "iopub.execute_input": "2020-06-14T19:57:23.724Z",
          "iopub.status.busy": "2020-06-14T19:57:23.708Z",
          "iopub.status.idle": "2020-06-14T19:57:23.759Z",
          "shell.execute_reply": "2020-06-14T19:57:23.775Z"
        },
        "id": "C5UI263HTG6e",
        "jupyter": {
          "outputs_hidden": false
        },
        "outputId": "fa081d29-c5ca-443f-abdb-5964094aadaf"
      },
      "outputs": [
        {
          "output_type": "execute_result",
          "data": {
            "text/plain": [
              "0.22217223328951335"
            ]
          },
          "metadata": {},
          "execution_count": 31
        }
      ],
      "source": [
        "# YOUR SOLUTION HERE\n",
        "\n",
        "imdb_ratings = movies['IMDB_Rating']\n",
        "iqr = np.percentile(imdb_ratings, 75) - np.percentile(imdb_ratings, 25)\n",
        "bin_width = 2 * iqr / len(imdb_ratings) ** (1/3)\n",
        "bin_width"
      ]
    },
    {
      "cell_type": "markdown",
      "metadata": {
        "id": "YhF5JL3mTG6e"
      },
      "source": [
        "# YOUR SOLUTION HERE"
      ]
    },
    {
      "cell_type": "markdown",
      "source": [
        "When using histograms with a limited number of bins, such as 2 or 3, you'll notice a significant oversimplification of the data, leading to the loss of crucial details. This oversimplification leads to the creation of excessively large bins that amalgamate multiple data points into single bars, ultimately resulting in a loss of granularity in the distribution of IMDB ratings. Consequently, the histograms appear coarse and fail to accurately represent the underlying distribution.\n",
        "\n",
        "Conversely, when employing a histogram with 20 bins, peculiar patterns may become evident. The presence of peaks and empty bars can be attributed to the chosen bin size. With 20 bins, the histogram becomes more finely detailed, allowing it to capture subtle variations in the data. However, these peaks and empty bars likely arise from attempting to fit the data into an excessive number of bins, causing the histogram to accentuate minor fluctuations or noise within the data."
      ],
      "metadata": {
        "id": "pNOuZuMBUksl"
      }
    },
    {
      "cell_type": "markdown",
      "metadata": {
        "id": "OVCQtwOLTG6e"
      },
      "source": [
        "## Formulae for choosing the number of bins.\n",
        "\n",
        "We can manually choose the number of bins based on those formulae."
      ]
    },
    {
      "cell_type": "code",
      "execution_count": 32,
      "metadata": {
        "colab": {
          "base_uri": "https://localhost:8080/",
          "height": 394
        },
        "execution": {
          "iopub.execute_input": "2020-06-14T19:57:26.087Z",
          "iopub.status.busy": "2020-06-14T19:57:26.071Z",
          "iopub.status.idle": "2020-06-14T19:57:26.506Z",
          "shell.execute_reply": "2020-06-14T19:57:26.556Z"
        },
        "id": "My4M97X8TG6f",
        "outputId": "4e12bedd-f130-4f62-a6e3-06c39562c28f"
      },
      "outputs": [
        {
          "output_type": "execute_result",
          "data": {
            "text/plain": [
              "<Axes: title={'center': 'F-D, 35 bins'}>"
            ]
          },
          "metadata": {},
          "execution_count": 32
        },
        {
          "output_type": "display_data",
          "data": {
            "text/plain": [
              "<Figure size 1200x400 with 3 Axes>"
            ],
            "image/png": "[encoded data removed]"
          },
          "metadata": {}
        }
      ],
      "source": [
        "N = len(movies)\n",
        "\n",
        "plt.figure(figsize=(12,4))\n",
        "\n",
        "# Sqrt\n",
        "nbins = int(np.sqrt(N))\n",
        "\n",
        "plt.subplot(1,3,1)\n",
        "plt.title(\"SQRT, {} bins\".format(nbins))\n",
        "movies.IMDB_Rating.hist(bins=nbins)\n",
        "\n",
        "# Sturge's formula\n",
        "nbins = int(np.ceil(np.log2(N) + 1))\n",
        "\n",
        "plt.subplot(1,3,2)\n",
        "plt.title(\"Sturge, {} bins\".format(nbins))\n",
        "movies.IMDB_Rating.hist(bins=nbins)\n",
        "\n",
        "# Freedman-Diaconis\n",
        "iqr = np.percentile(movies.IMDB_Rating, 75) - np.percentile(movies.IMDB_Rating, 25)\n",
        "width = 2*iqr/np.power(N, 1/3)\n",
        "nbins = int((max(movies.IMDB_Rating) - min(movies.IMDB_Rating)) / width)\n",
        "\n",
        "plt.subplot(1,3,3)\n",
        "plt.title(\"F-D, {} bins\".format(nbins))\n",
        "movies.IMDB_Rating.hist(bins=nbins)"
      ]
    },
    {
      "cell_type": "markdown",
      "metadata": {
        "id": "8RKA0F83TG6f"
      },
      "source": [
        "But we can also use built-in formulae too. Let's try all of them."
      ]
    },
    {
      "cell_type": "code",
      "execution_count": 33,
      "metadata": {
        "colab": {
          "base_uri": "https://localhost:8080/",
          "height": 243
        },
        "execution": {
          "iopub.execute_input": "2020-06-14T19:57:27.570Z",
          "iopub.status.busy": "2020-06-14T19:57:27.554Z",
          "iopub.status.idle": "2020-06-14T19:57:28.976Z",
          "shell.execute_reply": "2020-06-14T19:57:28.994Z"
        },
        "id": "qoEJofYATG6f",
        "jupyter": {
          "outputs_hidden": false
        },
        "outputId": "74919c44-bbb7-488c-d1e9-9216781cb88a"
      },
      "outputs": [
        {
          "output_type": "execute_result",
          "data": {
            "text/plain": [
              "<Axes: >"
            ]
          },
          "metadata": {},
          "execution_count": 33
        },
        {
          "output_type": "display_data",
          "data": {
            "text/plain": [
              "<Figure size 2000x400 with 6 Axes>"
            ],
            "image/png": "[encoded data removed]"
          },
          "metadata": {}
        }
      ],
      "source": [
        "plt.figure(figsize=(20,4))\n",
        "\n",
        "plt.subplot(161)\n",
        "movies.IMDB_Rating.hist(bins='fd')\n",
        "\n",
        "plt.subplot(162)\n",
        "movies.IMDB_Rating.hist(bins='doane')\n",
        "\n",
        "plt.subplot(163)\n",
        "movies.IMDB_Rating.hist(bins='scott')\n",
        "\n",
        "plt.subplot(164)\n",
        "movies.IMDB_Rating.hist(bins='rice')\n",
        "\n",
        "plt.subplot(165)\n",
        "movies.IMDB_Rating.hist(bins='sturges')\n",
        "\n",
        "plt.subplot(166)\n",
        "movies.IMDB_Rating.hist(bins='sqrt')"
      ]
    },
    {
      "cell_type": "markdown",
      "metadata": {
        "id": "33_5ZPO2TG6f"
      },
      "source": [
        "Some are decent, but several of them tend to overestimate the good number of bins. As you have more data points, some of the formulae may overestimate the necessary number of bins. Particularly in our case, because of the precision issue, we shouldn't increase the number of bins too much."
      ]
    },
    {
      "cell_type": "markdown",
      "metadata": {
        "id": "oX4mgRmVTG6f"
      },
      "source": [
        "### Then, how should we choose the number of bins?"
      ]
    },
    {
      "cell_type": "markdown",
      "metadata": {
        "id": "nwa4u4gjTG6f"
      },
      "source": [
        "So what's the conclusion? use Scott's rule or Sturges' formula?\n",
        "\n",
        "No, I think the take-away is that you **should understand how the inappropriate number of bins can mislead you** and you should **try multiple number of bins** to obtain the most accurate picture of the data. Although the 'default' may work in most cases, don't blindly trust it! Don't judge the distribution of a dataset based on a single histogram. Try multiple parameters to get the full picture!"
      ]
    },
    {
      "cell_type": "markdown",
      "metadata": {
        "id": "Fevnnf2fTG6f"
      },
      "source": [
        "## CDF (Cumulative distribution function)\n",
        "\n",
        "Drawing a CDF is easy. Because it's very common data visualization, histogram has an option called `cumulative`."
      ]
    },
    {
      "cell_type": "code",
      "execution_count": 34,
      "metadata": {
        "colab": {
          "base_uri": "https://localhost:8080/",
          "height": 448
        },
        "execution": {
          "iopub.execute_input": "2020-06-14T19:57:33.036Z",
          "iopub.status.busy": "2020-06-14T19:57:32.985Z",
          "iopub.status.idle": "2020-06-14T19:57:33.475Z",
          "shell.execute_reply": "2020-06-14T19:57:33.492Z"
        },
        "id": "tGx6OxKATG6g",
        "jupyter": {
          "outputs_hidden": false
        },
        "outputId": "abd0ccc7-6ce8-4022-a65f-c1c2049c0d1b"
      },
      "outputs": [
        {
          "output_type": "execute_result",
          "data": {
            "text/plain": [
              "<Axes: >"
            ]
          },
          "metadata": {},
          "execution_count": 34
        },
        {
          "output_type": "display_data",
          "data": {
            "text/plain": [
              "<Figure size 640x480 with 1 Axes>"
            ],
            "image/png": "[encoded data removed]"
          },
          "metadata": {}
        }
      ],
      "source": [
        "movies.IMDB_Rating.hist(cumulative=True)"
      ]
    },
    {
      "cell_type": "markdown",
      "metadata": {
        "id": "ylVvfe-eTG6g"
      },
      "source": [
        "You can also combine with options such as `histtype` and `density`."
      ]
    },
    {
      "cell_type": "code",
      "execution_count": 35,
      "metadata": {
        "colab": {
          "base_uri": "https://localhost:8080/",
          "height": 448
        },
        "execution": {
          "iopub.execute_input": "2020-06-14T19:57:34.566Z",
          "iopub.status.busy": "2020-06-14T19:57:34.550Z",
          "iopub.status.idle": "2020-06-14T19:57:34.671Z",
          "shell.execute_reply": "2020-06-14T19:57:34.687Z"
        },
        "id": "V-qGVKxVTG6g",
        "jupyter": {
          "outputs_hidden": false
        },
        "outputId": "63c26ebd-cbcf-491d-9b11-4f2dbdc09de5"
      },
      "outputs": [
        {
          "output_type": "execute_result",
          "data": {
            "text/plain": [
              "<Axes: >"
            ]
          },
          "metadata": {},
          "execution_count": 35
        },
        {
          "output_type": "display_data",
          "data": {
            "text/plain": [
              "<Figure size 640x480 with 1 Axes>"
            ],
            "image/png": "[encoded data removed]"
          },
          "metadata": {}
        }
      ],
      "source": [
        "movies.IMDB_Rating.hist(histtype='step', cumulative=True, density=True)"
      ]
    },
    {
      "cell_type": "markdown",
      "metadata": {
        "id": "5LkuToB3TG6g"
      },
      "source": [
        "And increase the number of bins."
      ]
    },
    {
      "cell_type": "code",
      "execution_count": 36,
      "metadata": {
        "colab": {
          "base_uri": "https://localhost:8080/",
          "height": 448
        },
        "execution": {
          "iopub.execute_input": "2020-06-14T19:57:35.726Z",
          "iopub.status.busy": "2020-06-14T19:57:35.709Z",
          "iopub.status.idle": "2020-06-14T19:57:37.266Z",
          "shell.execute_reply": "2020-06-14T19:57:37.319Z"
        },
        "id": "d0fgONoxTG6g",
        "jupyter": {
          "outputs_hidden": false
        },
        "outputId": "501fcb6e-ff4b-452d-db62-ef8a5af03a13"
      },
      "outputs": [
        {
          "output_type": "execute_result",
          "data": {
            "text/plain": [
              "<Axes: >"
            ]
          },
          "metadata": {},
          "execution_count": 36
        },
        {
          "output_type": "display_data",
          "data": {
            "text/plain": [
              "<Figure size 640x480 with 1 Axes>"
            ],
            "image/png": "[encoded data removed]"
          },
          "metadata": {}
        }
      ],
      "source": [
        "movies.IMDB_Rating.hist(cumulative=True, density=True, bins=1000)"
      ]
    },
    {
      "cell_type": "markdown",
      "metadata": {
        "id": "JrytXZBQTG6g"
      },
      "source": [
        "This method works fine. By increasing the number of bins, you can get a CDF in the resolution that you want. But let's also try it manually to better understand what's going on. First, we should sort all the values."
      ]
    },
    {
      "cell_type": "code",
      "execution_count": 37,
      "metadata": {
        "colab": {
          "base_uri": "https://localhost:8080/"
        },
        "execution": {
          "iopub.execute_input": "2020-06-14T19:57:38.193Z",
          "iopub.status.busy": "2020-06-14T19:57:38.177Z",
          "iopub.status.idle": "2020-06-14T19:57:38.229Z",
          "shell.execute_reply": "2020-06-14T19:57:38.245Z"
        },
        "id": "hQmzLYonTG6g",
        "jupyter": {
          "outputs_hidden": false
        },
        "outputId": "60476bb2-396d-4a08-c1cc-ce802ab032f1"
      },
      "outputs": [
        {
          "output_type": "execute_result",
          "data": {
            "text/plain": [
              "1247    1.4\n",
              "406     1.5\n",
              "1754    1.6\n",
              "1590    1.7\n",
              "1515    1.7\n",
              "Name: IMDB_Rating, dtype: float64"
            ]
          },
          "metadata": {},
          "execution_count": 37
        }
      ],
      "source": [
        "rating_sorted = movies.IMDB_Rating.sort_values()\n",
        "rating_sorted.head()"
      ]
    },
    {
      "cell_type": "markdown",
      "metadata": {
        "id": "GwGp6rXDTG6g"
      },
      "source": [
        "We need to know the number of data points,"
      ]
    },
    {
      "cell_type": "code",
      "execution_count": 38,
      "metadata": {
        "colab": {
          "base_uri": "https://localhost:8080/"
        },
        "execution": {
          "iopub.execute_input": "2020-06-14T19:57:39.585Z",
          "iopub.status.busy": "2020-06-14T19:57:39.569Z",
          "iopub.status.idle": "2020-06-14T19:57:39.617Z",
          "shell.execute_reply": "2020-06-14T19:57:39.635Z"
        },
        "id": "wzlbCrkcTG6h",
        "jupyter": {
          "outputs_hidden": false
        },
        "outputId": "17ae18f3-c2d0-4974-fa1e-f64611285087"
      },
      "outputs": [
        {
          "output_type": "execute_result",
          "data": {
            "text/plain": [
              "2988"
            ]
          },
          "metadata": {},
          "execution_count": 38
        }
      ],
      "source": [
        "N = len(rating_sorted)\n",
        "N"
      ]
    },
    {
      "cell_type": "markdown",
      "metadata": {
        "id": "TB-YgQwDTG6h"
      },
      "source": [
        "And I think this may be useful for you."
      ]
    },
    {
      "cell_type": "code",
      "execution_count": 39,
      "metadata": {
        "colab": {
          "base_uri": "https://localhost:8080/"
        },
        "execution": {
          "iopub.execute_input": "2020-06-14T19:57:40.533Z",
          "iopub.status.busy": "2020-06-14T19:57:40.515Z",
          "iopub.status.idle": "2020-06-14T19:57:40.565Z",
          "shell.execute_reply": "2020-06-14T19:57:40.581Z"
        },
        "id": "ta5S5g-OTG6h",
        "jupyter": {
          "outputs_hidden": false
        },
        "outputId": "586df50f-5d7c-4551-81fa-ae37f887d9d5"
      },
      "outputs": [
        {
          "output_type": "execute_result",
          "data": {
            "text/plain": [
              "array([0.02, 0.04, 0.06, 0.08, 0.1 , 0.12, 0.14, 0.16, 0.18, 0.2 , 0.22,\n",
              "       0.24, 0.26, 0.28, 0.3 , 0.32, 0.34, 0.36, 0.38, 0.4 , 0.42, 0.44,\n",
              "       0.46, 0.48, 0.5 , 0.52, 0.54, 0.56, 0.58, 0.6 , 0.62, 0.64, 0.66,\n",
              "       0.68, 0.7 , 0.72, 0.74, 0.76, 0.78, 0.8 , 0.82, 0.84, 0.86, 0.88,\n",
              "       0.9 , 0.92, 0.94, 0.96, 0.98, 1.  ])"
            ]
          },
          "metadata": {},
          "execution_count": 39
        }
      ],
      "source": [
        "n = 50\n",
        "np.linspace(1/n, 1.0, num=n)"
      ]
    },
    {
      "cell_type": "markdown",
      "metadata": {
        "id": "xTkw7L1ETG6h"
      },
      "source": [
        "**Q: now you're ready to draw a proper CDF. Draw the CDF plot of this data.**"
      ]
    },
    {
      "cell_type": "code",
      "execution_count": 40,
      "metadata": {
        "colab": {
          "base_uri": "https://localhost:8080/",
          "height": 449
        },
        "execution": {
          "iopub.execute_input": "2020-06-14T19:57:41.498Z",
          "iopub.status.busy": "2020-06-14T19:57:41.481Z",
          "iopub.status.idle": "2020-06-14T19:57:41.677Z",
          "shell.execute_reply": "2020-06-14T19:57:41.693Z"
        },
        "id": "mS2e8Ji4TG6h",
        "jupyter": {
          "outputs_hidden": false
        },
        "outputId": "89533d59-fa70-4d57-c97a-874c8beed909"
      },
      "outputs": [
        {
          "output_type": "display_data",
          "data": {
            "text/plain": [
              "<Figure size 640x480 with 1 Axes>"
            ],
            "image/png": "[encoded data removed]"
          },
          "metadata": {}
        }
      ],
      "source": [
        "# YOUR SOLUTION HERE\n",
        "\n",
        "rating_sorted = movies.IMDB_Rating.dropna().sort_values()\n",
        "N = len(rating_sorted)\n",
        "cdf_values = np.linspace(1 / N, 1.0, num=N)\n",
        "plt.plot(rating_sorted, cdf_values, marker='.')\n",
        "plt.xlabel('IMDB Rating')\n",
        "plt.ylabel('Cumulative Probability')\n",
        "plt.show()"
      ]
    },
    {
      "cell_type": "markdown",
      "metadata": {
        "id": "_yRa45NKTG6h"
      },
      "source": [
        "## A bit more histogram with altair\n",
        "\n",
        "As you may remember, you can get a pandas dataframe from `vega_datasets` package and use it to create visualizations. But, if you use `altair`, you can simply pass the URL instead of the actual data."
      ]
    },
    {
      "cell_type": "code",
      "execution_count": 41,
      "metadata": {
        "colab": {
          "base_uri": "https://localhost:8080/",
          "height": 36
        },
        "execution": {
          "iopub.execute_input": "2020-06-14T19:57:43.058Z",
          "iopub.status.busy": "2020-06-14T19:57:43.042Z",
          "iopub.status.idle": "2020-06-14T19:57:43.092Z",
          "shell.execute_reply": "2020-06-14T19:57:43.108Z"
        },
        "id": "i5tVwCoUTG6h",
        "jupyter": {
          "outputs_hidden": false
        },
        "outputId": "51c0d7d3-2fc0-44ca-cca4-13b4231a4ae7"
      },
      "outputs": [
        {
          "output_type": "execute_result",
          "data": {
            "text/plain": [
              "'https://cdn.jsdelivr.net/npm/vega-datasets@v1.29.0/data/movies.json'"
            ],
            "application/vnd.google.colaboratory.intrinsic+json": {
              "type": "string"
            }
          },
          "metadata": {},
          "execution_count": 41
        }
      ],
      "source": [
        "vega_datasets.data.movies.url"
      ]
    },
    {
      "cell_type": "code",
      "execution_count": 42,
      "metadata": {
        "colab": {
          "base_uri": "https://localhost:8080/"
        },
        "execution": {
          "iopub.execute_input": "2020-06-14T19:57:43.771Z",
          "iopub.status.busy": "2020-06-14T19:57:43.755Z",
          "iopub.status.idle": "2020-06-14T19:57:43.806Z",
          "shell.execute_reply": "2020-06-14T19:57:43.821Z"
        },
        "id": "ovK3CJblTG6i",
        "jupyter": {
          "outputs_hidden": false
        },
        "outputId": "1f4a5e2a-638c-467b-f224-6502ede5c07d"
      },
      "outputs": [
        {
          "output_type": "execute_result",
          "data": {
            "text/plain": [
              "RendererRegistry.enable('default')"
            ]
          },
          "metadata": {},
          "execution_count": 42
        }
      ],
      "source": [
        "# Choose based on your environment\n",
        "alt.renderers.enable('default')\n",
        "# alt.renderers.enable('notebook')"
      ]
    },
    {
      "cell_type": "markdown",
      "metadata": {
        "id": "lwcVA0LxTG6i"
      },
      "source": [
        "As mentioned before, in `altair` histogram is not special. It is just a plot that use bars (`mark_bar()`) where X axis is defined by `IMDB_Rating` with bins (`bin=True`), and Y axis is defined by `count()` aggregation function."
      ]
    },
    {
      "cell_type": "code",
      "execution_count": 43,
      "metadata": {
        "colab": {
          "base_uri": "https://localhost:8080/",
          "height": 368
        },
        "execution": {
          "iopub.execute_input": "2020-06-14T19:57:44.724Z",
          "iopub.status.busy": "2020-06-14T19:57:44.708Z",
          "iopub.status.idle": "2020-06-14T19:57:44.757Z",
          "shell.execute_reply": "2020-06-14T19:57:44.817Z"
        },
        "id": "h048hIgETG6i",
        "jupyter": {
          "outputs_hidden": false
        },
        "outputId": "3a334997-d027-40cd-8131-e50b73fff2d7"
      },
      "outputs": [
        {
          "output_type": "execute_result",
          "data": {
            "text/html": [
              "\n",
              "<div id=\"altair-viz-748efd2e96b74798b78c228185b68319\"></div>\n",
              "<script type=\"text/javascript\">\n",
              "  var VEGA_DEBUG = (typeof VEGA_DEBUG == \"undefined\") ? {} : VEGA_DEBUG;\n",
              "  (function(spec, embedOpt){\n",
              "    let outputDiv = document.currentScript.previousElementSibling;\n",
              "    if (outputDiv.id !== \"altair-viz-748efd2e96b74798b78c228185b68319\") {\n",
              "      outputDiv = document.getElementById(\"altair-viz-748efd2e96b74798b78c228185b68319\");\n",
              "    }\n",
              "    const paths = {\n",
              "      \"vega\": \"https://cdn.jsdelivr.net/npm//vega@5?noext\",\n",
              "      \"vega-lib\": \"https://cdn.jsdelivr.net/npm//vega-lib?noext\",\n",
              "      \"vega-lite\": \"https://cdn.jsdelivr.net/npm//vega-lite@4.17.0?noext\",\n",
              "      \"vega-embed\": \"https://cdn.jsdelivr.net/npm//vega-embed@6?noext\",\n",
              "    };\n",
              "\n",
              "    function maybeLoadScript(lib, version) {\n",
              "      var key = `${lib.replace(\"-\", \"\")}_version`;\n",
              "      return (VEGA_DEBUG[key] == version) ?\n",
              "        Promise.resolve(paths[lib]) :\n",
              "        new Promise(function(resolve, reject) {\n",
              "          var s = document.createElement('script');\n",
              "          document.getElementsByTagName(\"head\")[0].appendChild(s);\n",
              "          s.async = true;\n",
              "          s.onload = () => {\n",
              "            VEGA_DEBUG[key] = version;\n",
              "            return resolve(paths[lib]);\n",
              "          };\n",
              "          s.onerror = () => reject(`Error loading script: ${paths[lib]}`);\n",
              "          s.src = paths[lib];\n",
              "        });\n",
              "    }\n",
              "\n",
              "    function showError(err) {\n",
              "      outputDiv.innerHTML = `<div class=\"error\" style=\"color:red;\">${err}</div>`;\n",
              "      throw err;\n",
              "    }\n",
              "\n",
              "    function displayChart(vegaEmbed) {\n",
              "      vegaEmbed(outputDiv, spec, embedOpt)\n",
              "        .catch(err => showError(`Javascript Error: ${err.message}<br>This usually means there's a typo in your chart specification. See the javascript console for the full traceback.`));\n",
              "    }\n",
              "\n",
              "    if(typeof define === \"function\" && define.amd) {\n",
              "      requirejs.config({paths});\n",
              "      require([\"vega-embed\"], displayChart, err => showError(`Error loading script: ${err.message}`));\n",
              "    } else {\n",
              "      maybeLoadScript(\"vega\", \"5\")\n",
              "        .then(() => maybeLoadScript(\"vega-lite\", \"4.17.0\"))\n",
              "        .then(() => maybeLoadScript(\"vega-embed\", \"6\"))\n",
              "        .catch(showError)\n",
              "        .then(() => displayChart(vegaEmbed));\n",
              "    }\n",
              "  })({\"config\": {\"view\": {\"continuousWidth\": 400, \"continuousHeight\": 300}}, \"data\": {\"url\": \"https://cdn.jsdelivr.net/npm/vega-datasets@v1.29.0/data/movies.json\"}, \"mark\": \"bar\", \"encoding\": {\"x\": {\"bin\": true, \"field\": \"IMDB_Rating\", \"type\": \"quantitative\"}, \"y\": {\"aggregate\": \"count\", \"type\": \"quantitative\"}}, \"$schema\": \"https://vega.github.io/schema/vega-lite/v4.17.0.json\"}, {\"mode\": \"vega-lite\"});\n",
              "</script>"
            ],
            "text/plain": [
              "alt.Chart(...)"
            ]
          },
          "metadata": {},
          "execution_count": 43
        }
      ],
      "source": [
        "alt.Chart(vega_datasets.data.movies.url).mark_bar().encode(\n",
        "    alt.X(\"IMDB_Rating:Q\",  bin=True),\n",
        "    alt.Y('count()')\n",
        ")"
      ]
    },
    {
      "cell_type": "markdown",
      "metadata": {
        "id": "KrhwH6I1TG6i"
      },
      "source": [
        "Have you noted that it is `IMDB_Rating:Q` not `IMDB_Rating`? This is a shorthand for"
      ]
    },
    {
      "cell_type": "markdown",
      "source": [
        "IMDB_Rating:Q - specifies the data type is quantitative."
      ],
      "metadata": {
        "id": "uGD51UFWWs_P"
      }
    },
    {
      "cell_type": "code",
      "execution_count": 44,
      "metadata": {
        "colab": {
          "base_uri": "https://localhost:8080/",
          "height": 368
        },
        "execution": {
          "iopub.execute_input": "2020-06-14T19:57:45.826Z",
          "iopub.status.busy": "2020-06-14T19:57:45.808Z",
          "iopub.status.idle": "2020-06-14T19:57:45.861Z",
          "shell.execute_reply": "2020-06-14T19:57:45.890Z"
        },
        "id": "Jna8_X-MTG6i",
        "jupyter": {
          "outputs_hidden": false
        },
        "outputId": "647c9a18-2e09-4fde-aace-ef790dab2981"
      },
      "outputs": [
        {
          "output_type": "execute_result",
          "data": {
            "text/html": [
              "\n",
              "<div id=\"altair-viz-e092f97bede8412d9e41f7eb011a05ab\"></div>\n",
              "<script type=\"text/javascript\">\n",
              "  var VEGA_DEBUG = (typeof VEGA_DEBUG == \"undefined\") ? {} : VEGA_DEBUG;\n",
              "  (function(spec, embedOpt){\n",
              "    let outputDiv = document.currentScript.previousElementSibling;\n",
              "    if (outputDiv.id !== \"altair-viz-e092f97bede8412d9e41f7eb011a05ab\") {\n",
              "      outputDiv = document.getElementById(\"altair-viz-e092f97bede8412d9e41f7eb011a05ab\");\n",
              "    }\n",
              "    const paths = {\n",
              "      \"vega\": \"https://cdn.jsdelivr.net/npm//vega@5?noext\",\n",
              "      \"vega-lib\": \"https://cdn.jsdelivr.net/npm//vega-lib?noext\",\n",
              "      \"vega-lite\": \"https://cdn.jsdelivr.net/npm//vega-lite@4.17.0?noext\",\n",
              "      \"vega-embed\": \"https://cdn.jsdelivr.net/npm//vega-embed@6?noext\",\n",
              "    };\n",
              "\n",
              "    function maybeLoadScript(lib, version) {\n",
              "      var key = `${lib.replace(\"-\", \"\")}_version`;\n",
              "      return (VEGA_DEBUG[key] == version) ?\n",
              "        Promise.resolve(paths[lib]) :\n",
              "        new Promise(function(resolve, reject) {\n",
              "          var s = document.createElement('script');\n",
              "          document.getElementsByTagName(\"head\")[0].appendChild(s);\n",
              "          s.async = true;\n",
              "          s.onload = () => {\n",
              "            VEGA_DEBUG[key] = version;\n",
              "            return resolve(paths[lib]);\n",
              "          };\n",
              "          s.onerror = () => reject(`Error loading script: ${paths[lib]}`);\n",
              "          s.src = paths[lib];\n",
              "        });\n",
              "    }\n",
              "\n",
              "    function showError(err) {\n",
              "      outputDiv.innerHTML = `<div class=\"error\" style=\"color:red;\">${err}</div>`;\n",
              "      throw err;\n",
              "    }\n",
              "\n",
              "    function displayChart(vegaEmbed) {\n",
              "      vegaEmbed(outputDiv, spec, embedOpt)\n",
              "        .catch(err => showError(`Javascript Error: ${err.message}<br>This usually means there's a typo in your chart specification. See the javascript console for the full traceback.`));\n",
              "    }\n",
              "\n",
              "    if(typeof define === \"function\" && define.amd) {\n",
              "      requirejs.config({paths});\n",
              "      require([\"vega-embed\"], displayChart, err => showError(`Error loading script: ${err.message}`));\n",
              "    } else {\n",
              "      maybeLoadScript(\"vega\", \"5\")\n",
              "        .then(() => maybeLoadScript(\"vega-lite\", \"4.17.0\"))\n",
              "        .then(() => maybeLoadScript(\"vega-embed\", \"6\"))\n",
              "        .catch(showError)\n",
              "        .then(() => displayChart(vegaEmbed));\n",
              "    }\n",
              "  })({\"config\": {\"view\": {\"continuousWidth\": 400, \"continuousHeight\": 300}}, \"data\": {\"url\": \"https://cdn.jsdelivr.net/npm/vega-datasets@v1.29.0/data/movies.json\"}, \"mark\": \"bar\", \"encoding\": {\"x\": {\"bin\": true, \"field\": \"IMDB_Rating\", \"type\": \"quantitative\"}, \"y\": {\"aggregate\": \"count\", \"type\": \"quantitative\"}}, \"$schema\": \"https://vega.github.io/schema/vega-lite/v4.17.0.json\"}, {\"mode\": \"vega-lite\"});\n",
              "</script>"
            ],
            "text/plain": [
              "alt.Chart(...)"
            ]
          },
          "metadata": {},
          "execution_count": 44
        }
      ],
      "source": [
        "alt.Chart(vega_datasets.data.movies.url).mark_bar().encode(\n",
        "    alt.X('IMDB_Rating', type='quantitative', bin=True),\n",
        "    alt.Y(aggregate='count', type='quantitative')\n",
        ")"
      ]
    },
    {
      "cell_type": "markdown",
      "metadata": {
        "id": "PXWdvT7XTG6i"
      },
      "source": [
        "In altair, you want to specify the data types using one of the four categories: quantitative, ordinal, nominal, and temporal. https://altair-viz.github.io/user_guide/encoding.html#data-types"
      ]
    },
    {
      "cell_type": "markdown",
      "metadata": {
        "id": "07Qhm4sZTG6i"
      },
      "source": [
        "Although you can adjust the bins in `altair`, it does not encourage you to set the bins directly. For instance, although there is `step` parameter that directly sets the bin size, there are parameters such as `maxbins` (maximum number of bins) or `minstep` (minimum allowable step size), or `nice` (attemps to make the bin boundaries more human-friendly), that encourage you not to specify the bins directly."
      ]
    },
    {
      "cell_type": "code",
      "execution_count": 45,
      "metadata": {
        "colab": {
          "base_uri": "https://localhost:8080/",
          "height": 368
        },
        "execution": {
          "iopub.execute_input": "2020-06-14T19:57:48.350Z",
          "iopub.status.busy": "2020-06-14T19:57:48.333Z",
          "iopub.status.idle": "2020-06-14T19:57:48.386Z",
          "shell.execute_reply": "2020-06-14T19:57:48.414Z"
        },
        "id": "6fg-viz1TG6i",
        "jupyter": {
          "outputs_hidden": false
        },
        "outputId": "1294c6d4-997d-4b70-dabf-587e32a1b644"
      },
      "outputs": [
        {
          "output_type": "execute_result",
          "data": {
            "text/html": [
              "\n",
              "<div id=\"altair-viz-264759f51a354432a3f717bce1287797\"></div>\n",
              "<script type=\"text/javascript\">\n",
              "  var VEGA_DEBUG = (typeof VEGA_DEBUG == \"undefined\") ? {} : VEGA_DEBUG;\n",
              "  (function(spec, embedOpt){\n",
              "    let outputDiv = document.currentScript.previousElementSibling;\n",
              "    if (outputDiv.id !== \"altair-viz-264759f51a354432a3f717bce1287797\") {\n",
              "      outputDiv = document.getElementById(\"altair-viz-264759f51a354432a3f717bce1287797\");\n",
              "    }\n",
              "    const paths = {\n",
              "      \"vega\": \"https://cdn.jsdelivr.net/npm//vega@5?noext\",\n",
              "      \"vega-lib\": \"https://cdn.jsdelivr.net/npm//vega-lib?noext\",\n",
              "      \"vega-lite\": \"https://cdn.jsdelivr.net/npm//vega-lite@4.17.0?noext\",\n",
              "      \"vega-embed\": \"https://cdn.jsdelivr.net/npm//vega-embed@6?noext\",\n",
              "    };\n",
              "\n",
              "    function maybeLoadScript(lib, version) {\n",
              "      var key = `${lib.replace(\"-\", \"\")}_version`;\n",
              "      return (VEGA_DEBUG[key] == version) ?\n",
              "        Promise.resolve(paths[lib]) :\n",
              "        new Promise(function(resolve, reject) {\n",
              "          var s = document.createElement('script');\n",
              "          document.getElementsByTagName(\"head\")[0].appendChild(s);\n",
              "          s.async = true;\n",
              "          s.onload = () => {\n",
              "            VEGA_DEBUG[key] = version;\n",
              "            return resolve(paths[lib]);\n",
              "          };\n",
              "          s.onerror = () => reject(`Error loading script: ${paths[lib]}`);\n",
              "          s.src = paths[lib];\n",
              "        });\n",
              "    }\n",
              "\n",
              "    function showError(err) {\n",
              "      outputDiv.innerHTML = `<div class=\"error\" style=\"color:red;\">${err}</div>`;\n",
              "      throw err;\n",
              "    }\n",
              "\n",
              "    function displayChart(vegaEmbed) {\n",
              "      vegaEmbed(outputDiv, spec, embedOpt)\n",
              "        .catch(err => showError(`Javascript Error: ${err.message}<br>This usually means there's a typo in your chart specification. See the javascript console for the full traceback.`));\n",
              "    }\n",
              "\n",
              "    if(typeof define === \"function\" && define.amd) {\n",
              "      requirejs.config({paths});\n",
              "      require([\"vega-embed\"], displayChart, err => showError(`Error loading script: ${err.message}`));\n",
              "    } else {\n",
              "      maybeLoadScript(\"vega\", \"5\")\n",
              "        .then(() => maybeLoadScript(\"vega-lite\", \"4.17.0\"))\n",
              "        .then(() => maybeLoadScript(\"vega-embed\", \"6\"))\n",
              "        .catch(showError)\n",
              "        .then(() => displayChart(vegaEmbed));\n",
              "    }\n",
              "  })({\"config\": {\"view\": {\"continuousWidth\": 400, \"continuousHeight\": 300}}, \"data\": {\"url\": \"https://cdn.jsdelivr.net/npm/vega-datasets@v1.29.0/data/movies.json\"}, \"mark\": \"bar\", \"encoding\": {\"x\": {\"bin\": {\"step\": 0.09}, \"field\": \"IMDB_Rating\", \"type\": \"quantitative\"}, \"y\": {\"aggregate\": \"count\", \"type\": \"quantitative\"}}, \"$schema\": \"https://vega.github.io/schema/vega-lite/v4.17.0.json\"}, {\"mode\": \"vega-lite\"});\n",
              "</script>"
            ],
            "text/plain": [
              "alt.Chart(...)"
            ]
          },
          "metadata": {},
          "execution_count": 45
        }
      ],
      "source": [
        "from altair import Bin\n",
        "\n",
        "alt.Chart(vega_datasets.data.movies.url).mark_bar().encode(\n",
        "    alt.X(\"IMDB_Rating:Q\",  bin=Bin(step=0.09)),\n",
        "    alt.Y('count()')\n",
        ")"
      ]
    },
    {
      "cell_type": "code",
      "execution_count": 46,
      "metadata": {
        "colab": {
          "base_uri": "https://localhost:8080/",
          "height": 368
        },
        "execution": {
          "iopub.execute_input": "2020-06-14T19:57:49.339Z",
          "iopub.status.busy": "2020-06-14T19:57:49.320Z",
          "iopub.status.idle": "2020-06-14T19:57:49.373Z",
          "shell.execute_reply": "2020-06-14T19:57:49.401Z"
        },
        "id": "lhrilAaATG6j",
        "jupyter": {
          "outputs_hidden": false
        },
        "outputId": "7b67e372-8c97-44a3-d635-dc53d74249cd"
      },
      "outputs": [
        {
          "output_type": "execute_result",
          "data": {
            "text/html": [
              "\n",
              "<div id=\"altair-viz-f8ee64c896444134b1dd8ff8099aeb6b\"></div>\n",
              "<script type=\"text/javascript\">\n",
              "  var VEGA_DEBUG = (typeof VEGA_DEBUG == \"undefined\") ? {} : VEGA_DEBUG;\n",
              "  (function(spec, embedOpt){\n",
              "    let outputDiv = document.currentScript.previousElementSibling;\n",
              "    if (outputDiv.id !== \"altair-viz-f8ee64c896444134b1dd8ff8099aeb6b\") {\n",
              "      outputDiv = document.getElementById(\"altair-viz-f8ee64c896444134b1dd8ff8099aeb6b\");\n",
              "    }\n",
              "    const paths = {\n",
              "      \"vega\": \"https://cdn.jsdelivr.net/npm//vega@5?noext\",\n",
              "      \"vega-lib\": \"https://cdn.jsdelivr.net/npm//vega-lib?noext\",\n",
              "      \"vega-lite\": \"https://cdn.jsdelivr.net/npm//vega-lite@4.17.0?noext\",\n",
              "      \"vega-embed\": \"https://cdn.jsdelivr.net/npm//vega-embed@6?noext\",\n",
              "    };\n",
              "\n",
              "    function maybeLoadScript(lib, version) {\n",
              "      var key = `${lib.replace(\"-\", \"\")}_version`;\n",
              "      return (VEGA_DEBUG[key] == version) ?\n",
              "        Promise.resolve(paths[lib]) :\n",
              "        new Promise(function(resolve, reject) {\n",
              "          var s = document.createElement('script');\n",
              "          document.getElementsByTagName(\"head\")[0].appendChild(s);\n",
              "          s.async = true;\n",
              "          s.onload = () => {\n",
              "            VEGA_DEBUG[key] = version;\n",
              "            return resolve(paths[lib]);\n",
              "          };\n",
              "          s.onerror = () => reject(`Error loading script: ${paths[lib]}`);\n",
              "          s.src = paths[lib];\n",
              "        });\n",
              "    }\n",
              "\n",
              "    function showError(err) {\n",
              "      outputDiv.innerHTML = `<div class=\"error\" style=\"color:red;\">${err}</div>`;\n",
              "      throw err;\n",
              "    }\n",
              "\n",
              "    function displayChart(vegaEmbed) {\n",
              "      vegaEmbed(outputDiv, spec, embedOpt)\n",
              "        .catch(err => showError(`Javascript Error: ${err.message}<br>This usually means there's a typo in your chart specification. See the javascript console for the full traceback.`));\n",
              "    }\n",
              "\n",
              "    if(typeof define === \"function\" && define.amd) {\n",
              "      requirejs.config({paths});\n",
              "      require([\"vega-embed\"], displayChart, err => showError(`Error loading script: ${err.message}`));\n",
              "    } else {\n",
              "      maybeLoadScript(\"vega\", \"5\")\n",
              "        .then(() => maybeLoadScript(\"vega-lite\", \"4.17.0\"))\n",
              "        .then(() => maybeLoadScript(\"vega-embed\", \"6\"))\n",
              "        .catch(showError)\n",
              "        .then(() => displayChart(vegaEmbed));\n",
              "    }\n",
              "  })({\"config\": {\"view\": {\"continuousWidth\": 400, \"continuousHeight\": 300}}, \"data\": {\"url\": \"https://cdn.jsdelivr.net/npm/vega-datasets@v1.29.0/data/movies.json\"}, \"mark\": \"bar\", \"encoding\": {\"x\": {\"bin\": {\"maxbins\": 20, \"nice\": true}, \"field\": \"IMDB_Rating\", \"type\": \"quantitative\"}, \"y\": {\"aggregate\": \"count\", \"type\": \"quantitative\"}}, \"$schema\": \"https://vega.github.io/schema/vega-lite/v4.17.0.json\"}, {\"mode\": \"vega-lite\"});\n",
              "</script>"
            ],
            "text/plain": [
              "alt.Chart(...)"
            ]
          },
          "metadata": {},
          "execution_count": 46
        }
      ],
      "source": [
        "alt.Chart(vega_datasets.data.movies.url).mark_bar().encode(\n",
        "    alt.X(\"IMDB_Rating:Q\",  bin=Bin(nice=True, maxbins=20)),\n",
        "    alt.Y('count()')\n",
        ")"
      ]
    },
    {
      "cell_type": "markdown",
      "metadata": {
        "id": "B6I7ZhwUTG6j"
      },
      "source": [
        "### Composing charts in altair\n",
        "\n",
        "`altair` has a very nice way to compose multiple plots. Two histograms side by side? just do the following."
      ]
    },
    {
      "cell_type": "code",
      "execution_count": 47,
      "metadata": {
        "execution": {
          "iopub.execute_input": "2020-06-14T19:57:50.814Z",
          "iopub.status.busy": "2020-06-14T19:57:50.798Z",
          "iopub.status.idle": "2020-06-14T19:57:50.842Z",
          "shell.execute_reply": "2020-06-14T19:57:50.859Z"
        },
        "id": "xPmv3BSrTG6j"
      },
      "outputs": [],
      "source": [
        "chart1 = alt.Chart(vega_datasets.data.movies.url).mark_bar().encode(\n",
        "    alt.X(\"IMDB_Rating:Q\",  bin=Bin(step=0.1)),\n",
        "    alt.Y('count()')\n",
        ").properties(\n",
        "    width=300,\n",
        "    height=150\n",
        ")\n",
        "chart2 = alt.Chart(vega_datasets.data.movies.url).mark_bar().encode(\n",
        "    alt.X(\"IMDB_Rating:Q\",  bin=Bin(nice=True, maxbins=20)),\n",
        "    alt.Y('count()')\n",
        ").properties(\n",
        "    width=300,\n",
        "    height=150\n",
        ")"
      ]
    },
    {
      "cell_type": "code",
      "execution_count": 48,
      "metadata": {
        "colab": {
          "base_uri": "https://localhost:8080/",
          "height": 215
        },
        "execution": {
          "iopub.execute_input": "2020-06-14T19:57:52.890Z",
          "iopub.status.busy": "2020-06-14T19:57:52.874Z",
          "iopub.status.idle": "2020-06-14T19:57:52.923Z",
          "shell.execute_reply": "2020-06-14T19:57:52.953Z"
        },
        "id": "ysVDBmkHTG6j",
        "jupyter": {
          "outputs_hidden": false
        },
        "outputId": "380de865-8c57-4395-c595-5b6ad554d326"
      },
      "outputs": [
        {
          "output_type": "execute_result",
          "data": {
            "text/html": [
              "\n",
              "<div id=\"altair-viz-b454e695f2dd4314ac0e62d0ae1b686f\"></div>\n",
              "<script type=\"text/javascript\">\n",
              "  var VEGA_DEBUG = (typeof VEGA_DEBUG == \"undefined\") ? {} : VEGA_DEBUG;\n",
              "  (function(spec, embedOpt){\n",
              "    let outputDiv = document.currentScript.previousElementSibling;\n",
              "    if (outputDiv.id !== \"altair-viz-b454e695f2dd4314ac0e62d0ae1b686f\") {\n",
              "      outputDiv = document.getElementById(\"altair-viz-b454e695f2dd4314ac0e62d0ae1b686f\");\n",
              "    }\n",
              "    const paths = {\n",
              "      \"vega\": \"https://cdn.jsdelivr.net/npm//vega@5?noext\",\n",
              "      \"vega-lib\": \"https://cdn.jsdelivr.net/npm//vega-lib?noext\",\n",
              "      \"vega-lite\": \"https://cdn.jsdelivr.net/npm//vega-lite@4.17.0?noext\",\n",
              "      \"vega-embed\": \"https://cdn.jsdelivr.net/npm//vega-embed@6?noext\",\n",
              "    };\n",
              "\n",
              "    function maybeLoadScript(lib, version) {\n",
              "      var key = `${lib.replace(\"-\", \"\")}_version`;\n",
              "      return (VEGA_DEBUG[key] == version) ?\n",
              "        Promise.resolve(paths[lib]) :\n",
              "        new Promise(function(resolve, reject) {\n",
              "          var s = document.createElement('script');\n",
              "          document.getElementsByTagName(\"head\")[0].appendChild(s);\n",
              "          s.async = true;\n",
              "          s.onload = () => {\n",
              "            VEGA_DEBUG[key] = version;\n",
              "            return resolve(paths[lib]);\n",
              "          };\n",
              "          s.onerror = () => reject(`Error loading script: ${paths[lib]}`);\n",
              "          s.src = paths[lib];\n",
              "        });\n",
              "    }\n",
              "\n",
              "    function showError(err) {\n",
              "      outputDiv.innerHTML = `<div class=\"error\" style=\"color:red;\">${err}</div>`;\n",
              "      throw err;\n",
              "    }\n",
              "\n",
              "    function displayChart(vegaEmbed) {\n",
              "      vegaEmbed(outputDiv, spec, embedOpt)\n",
              "        .catch(err => showError(`Javascript Error: ${err.message}<br>This usually means there's a typo in your chart specification. See the javascript console for the full traceback.`));\n",
              "    }\n",
              "\n",
              "    if(typeof define === \"function\" && define.amd) {\n",
              "      requirejs.config({paths});\n",
              "      require([\"vega-embed\"], displayChart, err => showError(`Error loading script: ${err.message}`));\n",
              "    } else {\n",
              "      maybeLoadScript(\"vega\", \"5\")\n",
              "        .then(() => maybeLoadScript(\"vega-lite\", \"4.17.0\"))\n",
              "        .then(() => maybeLoadScript(\"vega-embed\", \"6\"))\n",
              "        .catch(showError)\n",
              "        .then(() => displayChart(vegaEmbed));\n",
              "    }\n",
              "  })({\"config\": {\"view\": {\"continuousWidth\": 400, \"continuousHeight\": 300}}, \"hconcat\": [{\"data\": {\"url\": \"https://cdn.jsdelivr.net/npm/vega-datasets@v1.29.0/data/movies.json\"}, \"mark\": \"bar\", \"encoding\": {\"x\": {\"bin\": {\"step\": 0.1}, \"field\": \"IMDB_Rating\", \"type\": \"quantitative\"}, \"y\": {\"aggregate\": \"count\", \"type\": \"quantitative\"}}, \"height\": 150, \"width\": 300}, {\"data\": {\"url\": \"https://cdn.jsdelivr.net/npm/vega-datasets@v1.29.0/data/movies.json\"}, \"mark\": \"bar\", \"encoding\": {\"x\": {\"bin\": {\"maxbins\": 20, \"nice\": true}, \"field\": \"IMDB_Rating\", \"type\": \"quantitative\"}, \"y\": {\"aggregate\": \"count\", \"type\": \"quantitative\"}}, \"height\": 150, \"width\": 300}], \"$schema\": \"https://vega.github.io/schema/vega-lite/v4.17.0.json\"}, {\"mode\": \"vega-lite\"});\n",
              "</script>"
            ],
            "text/plain": [
              "alt.HConcatChart(...)"
            ]
          },
          "metadata": {},
          "execution_count": 48
        }
      ],
      "source": [
        "chart1 | chart2"
      ]
    },
    {
      "cell_type": "code",
      "execution_count": 49,
      "metadata": {
        "colab": {
          "base_uri": "https://localhost:8080/",
          "height": 215
        },
        "execution": {
          "iopub.execute_input": "2020-06-14T19:57:53.433Z",
          "iopub.status.busy": "2020-06-14T19:57:53.415Z",
          "iopub.status.idle": "2020-06-14T19:57:53.469Z",
          "shell.execute_reply": "2020-06-14T19:57:53.502Z"
        },
        "id": "4V9T406iTG6j",
        "jupyter": {
          "outputs_hidden": false
        },
        "outputId": "ce219dbb-7a47-4cfc-91d6-f78e3e37c540"
      },
      "outputs": [
        {
          "output_type": "execute_result",
          "data": {
            "text/html": [
              "\n",
              "<div id=\"altair-viz-61501ceaec7f4fc0b96e28a13b267c5c\"></div>\n",
              "<script type=\"text/javascript\">\n",
              "  var VEGA_DEBUG = (typeof VEGA_DEBUG == \"undefined\") ? {} : VEGA_DEBUG;\n",
              "  (function(spec, embedOpt){\n",
              "    let outputDiv = document.currentScript.previousElementSibling;\n",
              "    if (outputDiv.id !== \"altair-viz-61501ceaec7f4fc0b96e28a13b267c5c\") {\n",
              "      outputDiv = document.getElementById(\"altair-viz-61501ceaec7f4fc0b96e28a13b267c5c\");\n",
              "    }\n",
              "    const paths = {\n",
              "      \"vega\": \"https://cdn.jsdelivr.net/npm//vega@5?noext\",\n",
              "      \"vega-lib\": \"https://cdn.jsdelivr.net/npm//vega-lib?noext\",\n",
              "      \"vega-lite\": \"https://cdn.jsdelivr.net/npm//vega-lite@4.17.0?noext\",\n",
              "      \"vega-embed\": \"https://cdn.jsdelivr.net/npm//vega-embed@6?noext\",\n",
              "    };\n",
              "\n",
              "    function maybeLoadScript(lib, version) {\n",
              "      var key = `${lib.replace(\"-\", \"\")}_version`;\n",
              "      return (VEGA_DEBUG[key] == version) ?\n",
              "        Promise.resolve(paths[lib]) :\n",
              "        new Promise(function(resolve, reject) {\n",
              "          var s = document.createElement('script');\n",
              "          document.getElementsByTagName(\"head\")[0].appendChild(s);\n",
              "          s.async = true;\n",
              "          s.onload = () => {\n",
              "            VEGA_DEBUG[key] = version;\n",
              "            return resolve(paths[lib]);\n",
              "          };\n",
              "          s.onerror = () => reject(`Error loading script: ${paths[lib]}`);\n",
              "          s.src = paths[lib];\n",
              "        });\n",
              "    }\n",
              "\n",
              "    function showError(err) {\n",
              "      outputDiv.innerHTML = `<div class=\"error\" style=\"color:red;\">${err}</div>`;\n",
              "      throw err;\n",
              "    }\n",
              "\n",
              "    function displayChart(vegaEmbed) {\n",
              "      vegaEmbed(outputDiv, spec, embedOpt)\n",
              "        .catch(err => showError(`Javascript Error: ${err.message}<br>This usually means there's a typo in your chart specification. See the javascript console for the full traceback.`));\n",
              "    }\n",
              "\n",
              "    if(typeof define === \"function\" && define.amd) {\n",
              "      requirejs.config({paths});\n",
              "      require([\"vega-embed\"], displayChart, err => showError(`Error loading script: ${err.message}`));\n",
              "    } else {\n",
              "      maybeLoadScript(\"vega\", \"5\")\n",
              "        .then(() => maybeLoadScript(\"vega-lite\", \"4.17.0\"))\n",
              "        .then(() => maybeLoadScript(\"vega-embed\", \"6\"))\n",
              "        .catch(showError)\n",
              "        .then(() => displayChart(vegaEmbed));\n",
              "    }\n",
              "  })({\"config\": {\"view\": {\"continuousWidth\": 400, \"continuousHeight\": 300}}, \"hconcat\": [{\"data\": {\"url\": \"https://cdn.jsdelivr.net/npm/vega-datasets@v1.29.0/data/movies.json\"}, \"mark\": \"bar\", \"encoding\": {\"x\": {\"bin\": {\"step\": 0.1}, \"field\": \"IMDB_Rating\", \"type\": \"quantitative\"}, \"y\": {\"aggregate\": \"count\", \"type\": \"quantitative\"}}, \"height\": 150, \"width\": 300}, {\"data\": {\"url\": \"https://cdn.jsdelivr.net/npm/vega-datasets@v1.29.0/data/movies.json\"}, \"mark\": \"bar\", \"encoding\": {\"x\": {\"bin\": {\"maxbins\": 20, \"nice\": true}, \"field\": \"IMDB_Rating\", \"type\": \"quantitative\"}, \"y\": {\"aggregate\": \"count\", \"type\": \"quantitative\"}}, \"height\": 150, \"width\": 300}], \"$schema\": \"https://vega.github.io/schema/vega-lite/v4.17.0.json\"}, {\"mode\": \"vega-lite\"});\n",
              "</script>"
            ],
            "text/plain": [
              "alt.HConcatChart(...)"
            ]
          },
          "metadata": {},
          "execution_count": 49
        }
      ],
      "source": [
        "alt.hconcat(chart1, chart2)"
      ]
    },
    {
      "cell_type": "markdown",
      "metadata": {
        "id": "J2H-DmilTG6j"
      },
      "source": [
        "Vertical commposition?"
      ]
    },
    {
      "cell_type": "code",
      "execution_count": 50,
      "metadata": {
        "colab": {
          "base_uri": "https://localhost:8080/",
          "height": 419
        },
        "execution": {
          "iopub.execute_input": "2020-06-14T19:57:55.011Z",
          "iopub.status.busy": "2020-06-14T19:57:54.929Z",
          "iopub.status.idle": "2020-06-14T19:57:55.080Z",
          "shell.execute_reply": "2020-06-14T19:57:55.113Z"
        },
        "id": "XqiQlLJwTG6j",
        "jupyter": {
          "outputs_hidden": false
        },
        "outputId": "e9fe2bb4-63dd-4e3d-bd32-288d75c005fb"
      },
      "outputs": [
        {
          "output_type": "execute_result",
          "data": {
            "text/html": [
              "\n",
              "<div id=\"altair-viz-b4d52934162c448982a219d739c77131\"></div>\n",
              "<script type=\"text/javascript\">\n",
              "  var VEGA_DEBUG = (typeof VEGA_DEBUG == \"undefined\") ? {} : VEGA_DEBUG;\n",
              "  (function(spec, embedOpt){\n",
              "    let outputDiv = document.currentScript.previousElementSibling;\n",
              "    if (outputDiv.id !== \"altair-viz-b4d52934162c448982a219d739c77131\") {\n",
              "      outputDiv = document.getElementById(\"altair-viz-b4d52934162c448982a219d739c77131\");\n",
              "    }\n",
              "    const paths = {\n",
              "      \"vega\": \"https://cdn.jsdelivr.net/npm//vega@5?noext\",\n",
              "      \"vega-lib\": \"https://cdn.jsdelivr.net/npm//vega-lib?noext\",\n",
              "      \"vega-lite\": \"https://cdn.jsdelivr.net/npm//vega-lite@4.17.0?noext\",\n",
              "      \"vega-embed\": \"https://cdn.jsdelivr.net/npm//vega-embed@6?noext\",\n",
              "    };\n",
              "\n",
              "    function maybeLoadScript(lib, version) {\n",
              "      var key = `${lib.replace(\"-\", \"\")}_version`;\n",
              "      return (VEGA_DEBUG[key] == version) ?\n",
              "        Promise.resolve(paths[lib]) :\n",
              "        new Promise(function(resolve, reject) {\n",
              "          var s = document.createElement('script');\n",
              "          document.getElementsByTagName(\"head\")[0].appendChild(s);\n",
              "          s.async = true;\n",
              "          s.onload = () => {\n",
              "            VEGA_DEBUG[key] = version;\n",
              "            return resolve(paths[lib]);\n",
              "          };\n",
              "          s.onerror = () => reject(`Error loading script: ${paths[lib]}`);\n",
              "          s.src = paths[lib];\n",
              "        });\n",
              "    }\n",
              "\n",
              "    function showError(err) {\n",
              "      outputDiv.innerHTML = `<div class=\"error\" style=\"color:red;\">${err}</div>`;\n",
              "      throw err;\n",
              "    }\n",
              "\n",
              "    function displayChart(vegaEmbed) {\n",
              "      vegaEmbed(outputDiv, spec, embedOpt)\n",
              "        .catch(err => showError(`Javascript Error: ${err.message}<br>This usually means there's a typo in your chart specification. See the javascript console for the full traceback.`));\n",
              "    }\n",
              "\n",
              "    if(typeof define === \"function\" && define.amd) {\n",
              "      requirejs.config({paths});\n",
              "      require([\"vega-embed\"], displayChart, err => showError(`Error loading script: ${err.message}`));\n",
              "    } else {\n",
              "      maybeLoadScript(\"vega\", \"5\")\n",
              "        .then(() => maybeLoadScript(\"vega-lite\", \"4.17.0\"))\n",
              "        .then(() => maybeLoadScript(\"vega-embed\", \"6\"))\n",
              "        .catch(showError)\n",
              "        .then(() => displayChart(vegaEmbed));\n",
              "    }\n",
              "  })({\"config\": {\"view\": {\"continuousWidth\": 400, \"continuousHeight\": 300}}, \"vconcat\": [{\"data\": {\"url\": \"https://cdn.jsdelivr.net/npm/vega-datasets@v1.29.0/data/movies.json\"}, \"mark\": \"bar\", \"encoding\": {\"x\": {\"bin\": {\"step\": 0.1}, \"field\": \"IMDB_Rating\", \"type\": \"quantitative\"}, \"y\": {\"aggregate\": \"count\", \"type\": \"quantitative\"}}, \"height\": 150, \"width\": 300}, {\"data\": {\"url\": \"https://cdn.jsdelivr.net/npm/vega-datasets@v1.29.0/data/movies.json\"}, \"mark\": \"bar\", \"encoding\": {\"x\": {\"bin\": {\"maxbins\": 20, \"nice\": true}, \"field\": \"IMDB_Rating\", \"type\": \"quantitative\"}, \"y\": {\"aggregate\": \"count\", \"type\": \"quantitative\"}}, \"height\": 150, \"width\": 300}], \"$schema\": \"https://vega.github.io/schema/vega-lite/v4.17.0.json\"}, {\"mode\": \"vega-lite\"});\n",
              "</script>"
            ],
            "text/plain": [
              "alt.VConcatChart(...)"
            ]
          },
          "metadata": {},
          "execution_count": 50
        }
      ],
      "source": [
        "alt.vconcat(chart1, chart2)"
      ]
    },
    {
      "cell_type": "code",
      "execution_count": 51,
      "metadata": {
        "colab": {
          "base_uri": "https://localhost:8080/",
          "height": 419
        },
        "execution": {
          "iopub.execute_input": "2020-06-14T19:57:56.070Z",
          "iopub.status.busy": "2020-06-14T19:57:56.051Z",
          "iopub.status.idle": "2020-06-14T19:57:56.107Z",
          "shell.execute_reply": "2020-06-14T19:57:56.143Z"
        },
        "id": "lNNGnNF9TG6k",
        "jupyter": {
          "outputs_hidden": false
        },
        "outputId": "1ddafd44-298d-435e-f870-7fc2e4e01fb7"
      },
      "outputs": [
        {
          "output_type": "execute_result",
          "data": {
            "text/html": [
              "\n",
              "<div id=\"altair-viz-88d6f6c06d2c4d51a25eeac22e6d8885\"></div>\n",
              "<script type=\"text/javascript\">\n",
              "  var VEGA_DEBUG = (typeof VEGA_DEBUG == \"undefined\") ? {} : VEGA_DEBUG;\n",
              "  (function(spec, embedOpt){\n",
              "    let outputDiv = document.currentScript.previousElementSibling;\n",
              "    if (outputDiv.id !== \"altair-viz-88d6f6c06d2c4d51a25eeac22e6d8885\") {\n",
              "      outputDiv = document.getElementById(\"altair-viz-88d6f6c06d2c4d51a25eeac22e6d8885\");\n",
              "    }\n",
              "    const paths = {\n",
              "      \"vega\": \"https://cdn.jsdelivr.net/npm//vega@5?noext\",\n",
              "      \"vega-lib\": \"https://cdn.jsdelivr.net/npm//vega-lib?noext\",\n",
              "      \"vega-lite\": \"https://cdn.jsdelivr.net/npm//vega-lite@4.17.0?noext\",\n",
              "      \"vega-embed\": \"https://cdn.jsdelivr.net/npm//vega-embed@6?noext\",\n",
              "    };\n",
              "\n",
              "    function maybeLoadScript(lib, version) {\n",
              "      var key = `${lib.replace(\"-\", \"\")}_version`;\n",
              "      return (VEGA_DEBUG[key] == version) ?\n",
              "        Promise.resolve(paths[lib]) :\n",
              "        new Promise(function(resolve, reject) {\n",
              "          var s = document.createElement('script');\n",
              "          document.getElementsByTagName(\"head\")[0].appendChild(s);\n",
              "          s.async = true;\n",
              "          s.onload = () => {\n",
              "            VEGA_DEBUG[key] = version;\n",
              "            return resolve(paths[lib]);\n",
              "          };\n",
              "          s.onerror = () => reject(`Error loading script: ${paths[lib]}`);\n",
              "          s.src = paths[lib];\n",
              "        });\n",
              "    }\n",
              "\n",
              "    function showError(err) {\n",
              "      outputDiv.innerHTML = `<div class=\"error\" style=\"color:red;\">${err}</div>`;\n",
              "      throw err;\n",
              "    }\n",
              "\n",
              "    function displayChart(vegaEmbed) {\n",
              "      vegaEmbed(outputDiv, spec, embedOpt)\n",
              "        .catch(err => showError(`Javascript Error: ${err.message}<br>This usually means there's a typo in your chart specification. See the javascript console for the full traceback.`));\n",
              "    }\n",
              "\n",
              "    if(typeof define === \"function\" && define.amd) {\n",
              "      requirejs.config({paths});\n",
              "      require([\"vega-embed\"], displayChart, err => showError(`Error loading script: ${err.message}`));\n",
              "    } else {\n",
              "      maybeLoadScript(\"vega\", \"5\")\n",
              "        .then(() => maybeLoadScript(\"vega-lite\", \"4.17.0\"))\n",
              "        .then(() => maybeLoadScript(\"vega-embed\", \"6\"))\n",
              "        .catch(showError)\n",
              "        .then(() => displayChart(vegaEmbed));\n",
              "    }\n",
              "  })({\"config\": {\"view\": {\"continuousWidth\": 400, \"continuousHeight\": 300}}, \"vconcat\": [{\"data\": {\"url\": \"https://cdn.jsdelivr.net/npm/vega-datasets@v1.29.0/data/movies.json\"}, \"mark\": \"bar\", \"encoding\": {\"x\": {\"bin\": {\"step\": 0.1}, \"field\": \"IMDB_Rating\", \"type\": \"quantitative\"}, \"y\": {\"aggregate\": \"count\", \"type\": \"quantitative\"}}, \"height\": 150, \"width\": 300}, {\"data\": {\"url\": \"https://cdn.jsdelivr.net/npm/vega-datasets@v1.29.0/data/movies.json\"}, \"mark\": \"bar\", \"encoding\": {\"x\": {\"bin\": {\"maxbins\": 20, \"nice\": true}, \"field\": \"IMDB_Rating\", \"type\": \"quantitative\"}, \"y\": {\"aggregate\": \"count\", \"type\": \"quantitative\"}}, \"height\": 150, \"width\": 300}], \"$schema\": \"https://vega.github.io/schema/vega-lite/v4.17.0.json\"}, {\"mode\": \"vega-lite\"});\n",
              "</script>"
            ],
            "text/plain": [
              "alt.VConcatChart(...)"
            ]
          },
          "metadata": {},
          "execution_count": 51
        }
      ],
      "source": [
        "chart1 & chart2"
      ]
    },
    {
      "cell_type": "markdown",
      "metadata": {
        "id": "jAIuSQfmTG6k"
      },
      "source": [
        "Shall we avoid some repetitions? You can define a *base* empty chart first and then assign encodings later when you put together multiple charts together. Here is an example: https://altair-viz.github.io/user_guide/compound_charts.html#repeated-charts\n",
        "\n",
        "**Q: Using the base chart approach to create a 2x2 chart where the top row shows the two histograms of `IMDB_Rating` with `maxbins`=10 and 50 respectively, and the bottom row shows another two histograms of `IMDB_Votes` with `maxbins`=10 and 50.**"
      ]
    },
    {
      "cell_type": "code",
      "execution_count": 52,
      "metadata": {
        "colab": {
          "base_uri": "https://localhost:8080/",
          "height": 429
        },
        "execution": {
          "iopub.execute_input": "2020-06-14T19:57:57.894Z",
          "iopub.status.busy": "2020-06-14T19:57:57.878Z",
          "iopub.status.idle": "2020-06-14T19:57:57.930Z",
          "shell.execute_reply": "2020-06-14T19:57:57.969Z"
        },
        "id": "Z8y3XrhmTG6k",
        "jupyter": {
          "outputs_hidden": false
        },
        "outputId": "d90a7db3-e5c9-4cf2-fd2e-7978a3de96dd"
      },
      "outputs": [
        {
          "output_type": "execute_result",
          "data": {
            "text/html": [
              "\n",
              "<div id=\"altair-viz-10f6887621b447d7bab3a4c609f830e7\"></div>\n",
              "<script type=\"text/javascript\">\n",
              "  var VEGA_DEBUG = (typeof VEGA_DEBUG == \"undefined\") ? {} : VEGA_DEBUG;\n",
              "  (function(spec, embedOpt){\n",
              "    let outputDiv = document.currentScript.previousElementSibling;\n",
              "    if (outputDiv.id !== \"altair-viz-10f6887621b447d7bab3a4c609f830e7\") {\n",
              "      outputDiv = document.getElementById(\"altair-viz-10f6887621b447d7bab3a4c609f830e7\");\n",
              "    }\n",
              "    const paths = {\n",
              "      \"vega\": \"https://cdn.jsdelivr.net/npm//vega@5?noext\",\n",
              "      \"vega-lib\": \"https://cdn.jsdelivr.net/npm//vega-lib?noext\",\n",
              "      \"vega-lite\": \"https://cdn.jsdelivr.net/npm//vega-lite@4.17.0?noext\",\n",
              "      \"vega-embed\": \"https://cdn.jsdelivr.net/npm//vega-embed@6?noext\",\n",
              "    };\n",
              "\n",
              "    function maybeLoadScript(lib, version) {\n",
              "      var key = `${lib.replace(\"-\", \"\")}_version`;\n",
              "      return (VEGA_DEBUG[key] == version) ?\n",
              "        Promise.resolve(paths[lib]) :\n",
              "        new Promise(function(resolve, reject) {\n",
              "          var s = document.createElement('script');\n",
              "          document.getElementsByTagName(\"head\")[0].appendChild(s);\n",
              "          s.async = true;\n",
              "          s.onload = () => {\n",
              "            VEGA_DEBUG[key] = version;\n",
              "            return resolve(paths[lib]);\n",
              "          };\n",
              "          s.onerror = () => reject(`Error loading script: ${paths[lib]}`);\n",
              "          s.src = paths[lib];\n",
              "        });\n",
              "    }\n",
              "\n",
              "    function showError(err) {\n",
              "      outputDiv.innerHTML = `<div class=\"error\" style=\"color:red;\">${err}</div>`;\n",
              "      throw err;\n",
              "    }\n",
              "\n",
              "    function displayChart(vegaEmbed) {\n",
              "      vegaEmbed(outputDiv, spec, embedOpt)\n",
              "        .catch(err => showError(`Javascript Error: ${err.message}<br>This usually means there's a typo in your chart specification. See the javascript console for the full traceback.`));\n",
              "    }\n",
              "\n",
              "    if(typeof define === \"function\" && define.amd) {\n",
              "      requirejs.config({paths});\n",
              "      require([\"vega-embed\"], displayChart, err => showError(`Error loading script: ${err.message}`));\n",
              "    } else {\n",
              "      maybeLoadScript(\"vega\", \"5\")\n",
              "        .then(() => maybeLoadScript(\"vega-lite\", \"4.17.0\"))\n",
              "        .then(() => maybeLoadScript(\"vega-embed\", \"6\"))\n",
              "        .catch(showError)\n",
              "        .then(() => displayChart(vegaEmbed));\n",
              "    }\n",
              "  })({\"config\": {\"view\": {\"continuousWidth\": 400, \"continuousHeight\": 300}}, \"vconcat\": [{\"hconcat\": [{\"mark\": \"bar\", \"encoding\": {\"x\": {\"bin\": {\"maxbins\": 10}, \"field\": \"IMDB_Rating\", \"type\": \"quantitative\"}, \"y\": {\"aggregate\": \"count\", \"type\": \"quantitative\"}}, \"height\": 150, \"width\": 300}, {\"mark\": \"bar\", \"encoding\": {\"x\": {\"bin\": {\"maxbins\": 50}, \"field\": \"IMDB_Rating\", \"type\": \"quantitative\"}, \"y\": {\"aggregate\": \"count\", \"type\": \"quantitative\"}}, \"height\": 150, \"width\": 300}]}, {\"hconcat\": [{\"mark\": \"bar\", \"encoding\": {\"x\": {\"bin\": {\"maxbins\": 10}, \"field\": \"IMDB_Votes\", \"type\": \"quantitative\"}, \"y\": {\"aggregate\": \"count\", \"type\": \"quantitative\"}}, \"height\": 150, \"width\": 300}, {\"mark\": \"bar\", \"encoding\": {\"x\": {\"bin\": {\"maxbins\": 50}, \"field\": \"IMDB_Votes\", \"type\": \"quantitative\"}, \"y\": {\"aggregate\": \"count\", \"type\": \"quantitative\"}}, \"height\": 150, \"width\": 300}]}], \"data\": {\"url\": \"https://cdn.jsdelivr.net/npm/vega-datasets@v1.29.0/data/movies.json\"}, \"$schema\": \"https://vega.github.io/schema/vega-lite/v4.17.0.json\"}, {\"mode\": \"vega-lite\"});\n",
              "</script>"
            ],
            "text/plain": [
              "alt.VConcatChart(...)"
            ]
          },
          "metadata": {},
          "execution_count": 52
        }
      ],
      "source": [
        "import altair as alt\n",
        "from vega_datasets import data\n",
        "\n",
        "movies_url = data.movies.url\n",
        "\n",
        "def create_chart(x_field, max_bins):\n",
        "    chart = alt.Chart(movies_url).mark_bar().encode(\n",
        "        alt.X(x_field, bin=alt.Bin(maxbins=max_bins)),\n",
        "        alt.Y('count()')\n",
        "    ).properties(\n",
        "        width=300,\n",
        "        height=150\n",
        "    )\n",
        "    return chart\n",
        "\n",
        "imdb_rating_chart_1 = create_chart(\"IMDB_Rating:Q\", 10)\n",
        "imdb_rating_chart_2 = create_chart(\"IMDB_Rating:Q\", 50)\n",
        "imdb_votes_chart_1 = create_chart(\"IMDB_Votes:Q\", 10)\n",
        "imdb_votes_chart_2 = create_chart(\"IMDB_Votes:Q\", 50)\n",
        "\n",
        "top_row = alt.hconcat(imdb_rating_chart_1, imdb_rating_chart_2)\n",
        "bottom_row = alt.hconcat(imdb_votes_chart_1, imdb_votes_chart_2)\n",
        "final_chart = alt.vconcat(top_row, bottom_row)\n",
        "final_chart"
      ]
    },
    {
      "cell_type": "code",
      "source": [],
      "metadata": {
        "id": "fr59w7OCjBpw"
      },
      "execution_count": 52,
      "outputs": []
    }
  ],
  "metadata": {
    "anaconda-cloud": {},
    "colab": {
      "provenance": []
    },
    "kernel_info": {
      "name": "dviz"
    },
    "kernelspec": {
      "display_name": "Python 3.9.13 64-bit",
      "language": "python",
      "name": "python3"
    },
    "language_info": {
      "codemirror_mode": {
        "name": "ipython",
        "version": 3
      },
      "file_extension": ".py",
      "mimetype": "text/x-python",
      "name": "python",
      "nbconvert_exporter": "python",
      "pygments_lexer": "ipython3",
      "version": "3.11.4"
    },
    "nteract": {
      "version": "0.23.3"
    },
    "toc": {
      "nav_menu": {},
      "number_sections": true,
      "sideBar": true,
      "skip_h1_title": false,
      "title_cell": "Table of Contents",
      "title_sidebar": "Contents",
      "toc_cell": false,
      "toc_position": {},
      "toc_section_display": true,
      "toc_window_display": false
    },
    "vscode": {
      "interpreter": {
        "hash": "b0fa6594d8f4cbf19f97940f81e996739fb7646882a419484c72d19e05852a7e"
      }
    }
  },
  "nbformat": 4,
  "nbformat_minor": 0
}